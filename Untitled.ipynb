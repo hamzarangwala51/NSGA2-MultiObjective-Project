{
 "cells": [
  {
   "cell_type": "code",
   "execution_count": 27,
   "id": "8d996a6b",
   "metadata": {
    "scrolled": true
   },
   "outputs": [
    {
     "name": "stdout",
     "output_type": "stream",
     "text": [
      "(116, 9182)\n",
      "(58, 9182)\n"
     ]
    }
   ],
   "source": [
    "import scipy.io\n",
    "import numpy as np\n",
    "# Load the .mat file\n",
    "# (No. of features) : 9182\n",
    "mat_contents = scipy.io.loadmat('CARCINOM_Split.mat')\n",
    "dataset_name = \"SRBCT_Split,83\"\n",
    "# Display the contents\n",
    "#print(mat_contents)\n",
    "data = mat_contents\n",
    "X_train =data['datatrain']\n",
    "X_test = data['datatest']\n",
    "Y_test=data['labelstest'].ravel()\n",
    "Y_train = data['labelstrain'].ravel()\n",
    "print(X_train.shape)\n",
    "print(X_test.shape)\n",
    "#print(data)"
   ]
  },
  {
   "cell_type": "code",
   "execution_count": null,
   "id": "b2039ce8",
   "metadata": {},
   "outputs": [],
   "source": []
  }
 ],
 "metadata": {
  "kernelspec": {
   "display_name": "Python 3 (ipykernel)",
   "language": "python",
   "name": "python3"
  },
  "language_info": {
   "codemirror_mode": {
    "name": "ipython",
    "version": 3
   },
   "file_extension": ".py",
   "mimetype": "text/x-python",
   "name": "python",
   "nbconvert_exporter": "python",
   "pygments_lexer": "ipython3",
   "version": "3.11.5"
  }
 },
 "nbformat": 4,
 "nbformat_minor": 5
}
