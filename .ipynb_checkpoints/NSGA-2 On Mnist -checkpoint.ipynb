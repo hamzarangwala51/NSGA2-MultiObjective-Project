{
 "cells": [
  {
   "cell_type": "code",
   "execution_count": 4,
   "id": "7ab91153",
   "metadata": {},
   "outputs": [
    {
     "name": "stdout",
     "output_type": "stream",
     "text": [
      "Collecting pymoo\n",
      "  Obtaining dependency information for pymoo from https://files.pythonhosted.org/packages/fe/7a/b8abbcca89357524ede8ee32cd921398a8f7d79f26e6a9cbf873ca7781fd/pymoo-0.6.1.1-cp311-cp311-win_amd64.whl.metadata\n",
      "  Downloading pymoo-0.6.1.1-cp311-cp311-win_amd64.whl.metadata (5.3 kB)\n",
      "Requirement already satisfied: numpy>=1.15 in c:\\users\\hamza\\anaconda3\\lib\\site-packages (from pymoo) (1.26.4)\n",
      "Requirement already satisfied: scipy>=1.1 in c:\\users\\hamza\\anaconda3\\lib\\site-packages (from pymoo) (1.12.0)\n",
      "Requirement already satisfied: matplotlib>=3 in c:\\users\\hamza\\anaconda3\\lib\\site-packages (from pymoo) (3.7.2)\n",
      "Collecting autograd>=1.4 (from pymoo)\n",
      "  Obtaining dependency information for autograd>=1.4 from https://files.pythonhosted.org/packages/81/70/d5c7c2a458b8be96495c8b1634c2155beab58cbe864b7a9a5c06c2e52520/autograd-1.6.2-py3-none-any.whl.metadata\n",
      "  Downloading autograd-1.6.2-py3-none-any.whl.metadata (706 bytes)\n",
      "Collecting cma==3.2.2 (from pymoo)\n",
      "  Obtaining dependency information for cma==3.2.2 from https://files.pythonhosted.org/packages/3d/d9/e607fd2257cc18d64ed4634d3fc437fda81cbd6d728f2d7aa5aad3a95447/cma-3.2.2-py2.py3-none-any.whl.metadata\n",
      "  Downloading cma-3.2.2-py2.py3-none-any.whl.metadata (8.0 kB)\n",
      "Collecting alive-progress (from pymoo)\n",
      "  Obtaining dependency information for alive-progress from https://files.pythonhosted.org/packages/d5/81/91e164705bdf4e2774cea59f566a41ab25f3c87affd716516fc8b03a4039/alive_progress-3.1.5-py3-none-any.whl.metadata\n",
      "  Downloading alive_progress-3.1.5-py3-none-any.whl.metadata (68 kB)\n",
      "     ---------------------------------------- 0.0/68.4 kB ? eta -:--:--\n",
      "     ---------------------- --------------- 41.0/68.4 kB 653.6 kB/s eta 0:00:01\n",
      "     -------------------------------------- 68.4/68.4 kB 937.8 kB/s eta 0:00:00\n",
      "Requirement already satisfied: dill in c:\\users\\hamza\\anaconda3\\lib\\site-packages (from pymoo) (0.3.6)\n",
      "Collecting Deprecated (from pymoo)\n",
      "  Obtaining dependency information for Deprecated from https://files.pythonhosted.org/packages/20/8d/778b7d51b981a96554f29136cd59ca7880bf58094338085bcf2a979a0e6a/Deprecated-1.2.14-py2.py3-none-any.whl.metadata\n",
      "  Downloading Deprecated-1.2.14-py2.py3-none-any.whl.metadata (5.4 kB)\n",
      "Requirement already satisfied: future>=0.15.2 in c:\\users\\hamza\\anaconda3\\lib\\site-packages (from autograd>=1.4->pymoo) (0.18.3)\n",
      "Requirement already satisfied: contourpy>=1.0.1 in c:\\users\\hamza\\anaconda3\\lib\\site-packages (from matplotlib>=3->pymoo) (1.0.5)\n",
      "Requirement already satisfied: cycler>=0.10 in c:\\users\\hamza\\anaconda3\\lib\\site-packages (from matplotlib>=3->pymoo) (0.11.0)\n",
      "Requirement already satisfied: fonttools>=4.22.0 in c:\\users\\hamza\\anaconda3\\lib\\site-packages (from matplotlib>=3->pymoo) (4.25.0)\n",
      "Requirement already satisfied: kiwisolver>=1.0.1 in c:\\users\\hamza\\anaconda3\\lib\\site-packages (from matplotlib>=3->pymoo) (1.4.4)\n",
      "Requirement already satisfied: packaging>=20.0 in c:\\users\\hamza\\anaconda3\\lib\\site-packages (from matplotlib>=3->pymoo) (23.1)\n",
      "Requirement already satisfied: pillow>=6.2.0 in c:\\users\\hamza\\anaconda3\\lib\\site-packages (from matplotlib>=3->pymoo) (9.4.0)\n",
      "Requirement already satisfied: pyparsing<3.1,>=2.3.1 in c:\\users\\hamza\\anaconda3\\lib\\site-packages (from matplotlib>=3->pymoo) (3.0.9)\n",
      "Requirement already satisfied: python-dateutil>=2.7 in c:\\users\\hamza\\anaconda3\\lib\\site-packages (from matplotlib>=3->pymoo) (2.8.2)\n",
      "Collecting about-time==4.2.1 (from alive-progress->pymoo)\n",
      "  Obtaining dependency information for about-time==4.2.1 from https://files.pythonhosted.org/packages/fb/cd/7ee00d6aa023b1d0551da0da5fee3bc23c3eeea632fbfc5126d1fec52b7e/about_time-4.2.1-py3-none-any.whl.metadata\n",
      "  Downloading about_time-4.2.1-py3-none-any.whl.metadata (13 kB)\n",
      "Collecting grapheme==0.6.0 (from alive-progress->pymoo)\n",
      "  Downloading grapheme-0.6.0.tar.gz (207 kB)\n",
      "     ---------------------------------------- 0.0/207.3 kB ? eta -:--:--\n",
      "     -------------------------------------  204.8/207.3 kB 6.1 MB/s eta 0:00:01\n",
      "     -------------------------------------- 207.3/207.3 kB 4.2 MB/s eta 0:00:00\n",
      "  Preparing metadata (setup.py): started\n",
      "  Preparing metadata (setup.py): finished with status 'done'\n",
      "Requirement already satisfied: wrapt<2,>=1.10 in c:\\users\\hamza\\anaconda3\\lib\\site-packages (from Deprecated->pymoo) (1.14.1)\n",
      "Requirement already satisfied: six>=1.5 in c:\\users\\hamza\\anaconda3\\lib\\site-packages (from python-dateutil>=2.7->matplotlib>=3->pymoo) (1.16.0)\n",
      "Downloading pymoo-0.6.1.1-cp311-cp311-win_amd64.whl (896 kB)\n",
      "   ---------------------------------------- 0.0/896.2 kB ? eta -:--:--\n",
      "   ------------------------------- ------- 727.0/896.2 kB 15.3 MB/s eta 0:00:01\n",
      "   --------------------------------- ----- 768.0/896.2 kB 16.1 MB/s eta 0:00:01\n",
      "   --------------------------------- ----- 768.0/896.2 kB 16.1 MB/s eta 0:00:01\n",
      "   --------------------------------- ----- 768.0/896.2 kB 16.1 MB/s eta 0:00:01\n",
      "   --------------------------------- ----- 768.0/896.2 kB 16.1 MB/s eta 0:00:01\n",
      "   --------------------------------- ----- 768.0/896.2 kB 16.1 MB/s eta 0:00:01\n",
      "   --------------------------------- ----- 768.0/896.2 kB 16.1 MB/s eta 0:00:01\n",
      "   ---------------------------------------  890.9/896.2 kB 2.6 MB/s eta 0:00:01\n",
      "   ---------------------------------------- 896.2/896.2 kB 2.3 MB/s eta 0:00:00\n",
      "Downloading cma-3.2.2-py2.py3-none-any.whl (249 kB)\n",
      "   ---------------------------------------- 0.0/249.1 kB ? eta -:--:--\n",
      "   ---------------------------------------- 0.0/249.1 kB ? eta -:--:--\n",
      "   ---------------------------------------- 0.0/249.1 kB ? eta -:--:--\n",
      "   ------ --------------------------------- 41.0/249.1 kB 1.9 MB/s eta 0:00:01\n",
      "   -------------------------------- ------- 204.8/249.1 kB 2.5 MB/s eta 0:00:01\n",
      "   ---------------------------------------- 249.1/249.1 kB 2.5 MB/s eta 0:00:00\n",
      "Downloading autograd-1.6.2-py3-none-any.whl (49 kB)\n",
      "   ---------------------------------------- 0.0/49.3 kB ? eta -:--:--\n",
      "   ---------------------------------------- 49.3/49.3 kB 2.4 MB/s eta 0:00:00\n",
      "Downloading alive_progress-3.1.5-py3-none-any.whl (75 kB)\n",
      "   ---------------------------------------- 0.0/76.0 kB ? eta -:--:--\n",
      "   ---------------------------------------- 76.0/76.0 kB 4.4 MB/s eta 0:00:00\n",
      "Downloading about_time-4.2.1-py3-none-any.whl (13 kB)\n",
      "Downloading Deprecated-1.2.14-py2.py3-none-any.whl (9.6 kB)\n",
      "Building wheels for collected packages: grapheme\n",
      "  Building wheel for grapheme (setup.py): started\n",
      "  Building wheel for grapheme (setup.py): finished with status 'done'\n",
      "  Created wheel for grapheme: filename=grapheme-0.6.0-py3-none-any.whl size=210117 sha256=d2a20665624d647f348930ba967c0e93187b167f19824c0c39b14f0030b71672\n",
      "  Stored in directory: c:\\users\\hamza\\appdata\\local\\pip\\cache\\wheels\\ee\\3b\\0b\\1b865800e916d671a24028d884698674138632a83fdfad4926\n",
      "Successfully built grapheme\n",
      "Installing collected packages: grapheme, Deprecated, cma, autograd, about-time, alive-progress, pymoo\n",
      "Successfully installed Deprecated-1.2.14 about-time-4.2.1 alive-progress-3.1.5 autograd-1.6.2 cma-3.2.2 grapheme-0.6.0 pymoo-0.6.1.1\n",
      "Note: you may need to restart the kernel to use updated packages.\n"
     ]
    }
   ],
   "source": [
    "pip install pymoo"
   ]
  },
  {
   "cell_type": "code",
   "execution_count": 5,
   "id": "8ef456b0",
   "metadata": {},
   "outputs": [],
   "source": [
    "from random import randint\n",
    "import numpy as np\n",
    "from pymoo.algorithms.moo.nsga2 import NSGA2\n",
    "from pymoo.core.problem import Problem\n",
    "from pymoo.optimize import minimize\n",
    "from pymoo.operators.sampling.rnd import BinaryRandomSampling\n",
    "import pandas as pd\n",
    "from sklearn.neighbors import KNeighborsClassifier\n",
    "from sklearn.model_selection import train_test_split # for splitting the dataset for training and testing\n",
    "from sklearn.metrics import accuracy_score # for calculating accuracy of model\n",
    "import math\n",
    "import matplotlib.pyplot as plt\n",
    "from pymoo.operators.crossover.ux import UniformCrossover\n",
    "from pymoo.operators.mutation.bitflip import BitflipMutation\n",
    "from pymoo.indicators.hv import HV\n",
    "from sklearn.preprocessing import (StandardScaler, OrdinalEncoder,LabelEncoder, MinMaxScaler, OneHotEncoder)\n",
    "import tensorflow as tf\n",
    "from tensorflow import keras\n",
    "from keras.datasets import mnist\n",
    "from keras.models import Model\n",
    "from keras.layers import Input, Dense, Flatten"
   ]
  },
  {
   "cell_type": "code",
   "execution_count": 6,
   "id": "c914920f",
   "metadata": {},
   "outputs": [],
   "source": [
    "import tensorflow as tf\n",
    "from tensorflow.keras.layers import *\n",
    "from tensorflow.keras.losses import MeanSquaredError\n",
    "from tensorflow.keras.optimizers import Adam\n",
    "from tensorflow.keras.metrics import MeanAbsoluteError\n",
    "from tensorflow.keras.datasets import mnist\n",
    "from tensorflow.keras.models import Model"
   ]
  },
  {
   "cell_type": "markdown",
   "id": "6eed31a4",
   "metadata": {},
   "source": [
    "# MNIST"
   ]
  },
  {
   "cell_type": "code",
   "execution_count": 1,
   "id": "a068fd2f",
   "metadata": {},
   "outputs": [
    {
     "ename": "NameError",
     "evalue": "name 'mnist' is not defined",
     "output_type": "error",
     "traceback": [
      "\u001b[1;31m---------------------------------------------------------------------------\u001b[0m",
      "\u001b[1;31mNameError\u001b[0m                                 Traceback (most recent call last)",
      "Cell \u001b[1;32mIn[1], line 1\u001b[0m\n\u001b[1;32m----> 1\u001b[0m mnist\u001b[38;5;241m.\u001b[39mload_data()\u001b[38;5;241m.\u001b[39msummary\n",
      "\u001b[1;31mNameError\u001b[0m: name 'mnist' is not defined"
     ]
    }
   ],
   "source": [
    "mnist.load_data().summary()"
   ]
  },
  {
   "cell_type": "code",
   "execution_count": 105,
   "id": "71da6896",
   "metadata": {},
   "outputs": [],
   "source": [
    "(x_train_m, y_train_m), (x_test_m, y_test_m) = mnist.load_data()\n",
    "x_train_m, x_test_m = x_train_m / 255.0, x_test_m / 255.0"
   ]
  },
  {
   "cell_type": "code",
   "execution_count": 106,
   "id": "df83590e",
   "metadata": {},
   "outputs": [
    {
     "data": {
      "text/plain": [
       "(60000, 28, 28)"
      ]
     },
     "execution_count": 106,
     "metadata": {},
     "output_type": "execute_result"
    }
   ],
   "source": [
    "x_train_m.shape"
   ]
  },
  {
   "cell_type": "code",
   "execution_count": 107,
   "id": "e78e69b6",
   "metadata": {},
   "outputs": [
    {
     "data": {
      "text/plain": [
       "(10000, 28, 28)"
      ]
     },
     "execution_count": 107,
     "metadata": {},
     "output_type": "execute_result"
    }
   ],
   "source": [
    "x_test_m.shape"
   ]
  },
  {
   "cell_type": "code",
   "execution_count": 157,
   "id": "9b7408e0",
   "metadata": {},
   "outputs": [
    {
     "data": {
      "image/png": "[encoded data removed]",
      "text/plain": [
       "<Figure size 640x480 with 1 Axes>"
      ]
     },
     "metadata": {},
     "output_type": "display_data"
    }
   ],
   "source": [
    "plt.imshow(x_train_m[0], cmap = 'gray')\n",
    "plt.title(f'number {y_train_m[0]}', size = 15)\n",
    "plt.show()"
   ]
  },
  {
   "cell_type": "markdown",
   "id": "43a2a832",
   "metadata": {},
   "source": [
    "## Sampling from the data"
   ]
  },
  {
   "cell_type": "code",
   "execution_count": 108,
   "id": "6dedbd76",
   "metadata": {},
   "outputs": [],
   "source": [
    "train_diversity_m = pd.DataFrame(y_train_m[:5000], columns = ['class'])"
   ]
  },
  {
   "cell_type": "code",
   "execution_count": 109,
   "id": "6fd2de26",
   "metadata": {},
   "outputs": [
    {
     "data": {
      "text/plain": [
       "1    563\n",
       "7    550\n",
       "4    535\n",
       "6    501\n",
       "9    495\n",
       "3    493\n",
       "2    488\n",
       "0    479\n",
       "8    462\n",
       "5    434\n",
       "Name: class, dtype: int64"
      ]
     },
     "execution_count": 109,
     "metadata": {},
     "output_type": "execute_result"
    }
   ],
   "source": [
    "train_diversity_m['class'].value_counts()"
   ]
  },
  {
   "cell_type": "code",
   "execution_count": 110,
   "id": "78e43a70",
   "metadata": {},
   "outputs": [
    {
     "data": {
      "text/plain": [
       "1    234\n",
       "2    219\n",
       "4    217\n",
       "3    207\n",
       "7    205\n",
       "9    194\n",
       "8    192\n",
       "5    179\n",
       "6    178\n",
       "0    175\n",
       "Name: class, dtype: int64"
      ]
     },
     "execution_count": 110,
     "metadata": {},
     "output_type": "execute_result"
    }
   ],
   "source": [
    "test_diversity_m = pd.DataFrame(y_test_m[:2000], columns = ['class'])\n",
    "test_diversity_m['class'].value_counts()"
   ]
  },
  {
   "cell_type": "markdown",
   "id": "4828e481",
   "metadata": {},
   "source": [
    "# CNN Architecture in order to get embeddings"
   ]
  },
  {
   "cell_type": "markdown",
   "id": "a7177484",
   "metadata": {},
   "source": [
    "Inspiration for picking the neural net's architecture to get the embeddings:"
   ]
  },
  {
   "attachments": {
    "LeNet5.png": {
     "image/png": "[encoded data removed]"
    }
   },
   "cell_type": "markdown",
   "id": "6af5595a",
   "metadata": {},
   "source": [
    "![LeNet5.png](attachment:LeNet5.png)"
   ]
  },
  {
   "cell_type": "code",
   "execution_count": 111,
   "id": "fc4af045",
   "metadata": {},
   "outputs": [
    {
     "name": "stdout",
     "output_type": "stream",
     "text": [
      "Model: \"model_8\"\n",
      "_________________________________________________________________\n",
      " Layer (type)                Output Shape              Param #   \n",
      "=================================================================\n",
      " input_8 (InputLayer)        [(None, 28, 28, 1)]       0         \n",
      "                                                                 \n",
      " conv2d_21 (Conv2D)          (None, 28, 28, 16)        160       \n",
      "                                                                 \n",
      " max_pooling2d_21 (MaxPooli  (None, 14, 14, 16)        0         \n",
      " ng2D)                                                           \n",
      "                                                                 \n",
      " conv2d_22 (Conv2D)          (None, 14, 14, 32)        4640      \n",
      "                                                                 \n",
      " max_pooling2d_22 (MaxPooli  (None, 7, 7, 32)          0         \n",
      " ng2D)                                                           \n",
      "                                                                 \n",
      " conv2d_23 (Conv2D)          (None, 7, 7, 64)          18496     \n",
      "                                                                 \n",
      " max_pooling2d_23 (MaxPooli  (None, 3, 3, 64)          0         \n",
      " ng2D)                                                           \n",
      "                                                                 \n",
      " flatten_7 (Flatten)         (None, 576)               0         \n",
      "                                                                 \n",
      " dense_22 (Dense)            (None, 160)               92320     \n",
      "                                                                 \n",
      " dense_23 (Dense)            (None, 84)                13524     \n",
      "                                                                 \n",
      " dense_24 (Dense)            (None, 10)                850       \n",
      "                                                                 \n",
      "=================================================================\n",
      "Total params: 129990 (507.77 KB)\n",
      "Trainable params: 129990 (507.77 KB)\n",
      "Non-trainable params: 0 (0.00 Byte)\n",
      "_________________________________________________________________\n"
     ]
    }
   ],
   "source": [
    "input_ = Input(shape=(28, 28, 1))\n",
    "x = Conv2D(16, 3, activation='relu', padding='same')(input_)\n",
    "x = MaxPool2D(2)(x)\n",
    "x = Conv2D(32, 3, activation='relu', padding='same')(x)\n",
    "x = MaxPool2D(2)(x)\n",
    "x = Conv2D(64, 3, activation='relu', padding='same')(x)\n",
    "x = MaxPool2D(2)(x)\n",
    "x = Flatten()(x)\n",
    "x = Dense(160, activation='relu')(x)\n",
    "x = Dense(84, activation='relu')(x)\n",
    "output = Dense(10, activation='softmax')(x)\n",
    "mnist_model = Model(input_, output)\n",
    "mnist_model.summary()"
   ]
  },
  {
   "cell_type": "code",
   "execution_count": 112,
   "id": "3ccac0ef",
   "metadata": {},
   "outputs": [],
   "source": [
    "mnist_model.compile(optimizer='adam',\n",
    "              loss='sparse_categorical_crossentropy',\n",
    "              metrics=['accuracy'])\n"
   ]
  },
  {
   "cell_type": "code",
   "execution_count": 113,
   "id": "1707341f",
   "metadata": {},
   "outputs": [
    {
     "name": "stdout",
     "output_type": "stream",
     "text": [
      "Epoch 1/10\n",
      "3000/3000 [==============================] - 65s 15ms/step - loss: 0.1433 - accuracy: 0.9550\n",
      "Epoch 2/10\n",
      "3000/3000 [==============================] - 47s 16ms/step - loss: 0.0490 - accuracy: 0.9847\n",
      "Epoch 3/10\n",
      "3000/3000 [==============================] - 48s 16ms/step - loss: 0.0366 - accuracy: 0.9889\n",
      "Epoch 4/10\n",
      "3000/3000 [==============================] - 47s 16ms/step - loss: 0.0274 - accuracy: 0.9919\n",
      "Epoch 5/10\n",
      "3000/3000 [==============================] - 49s 16ms/step - loss: 0.0228 - accuracy: 0.9930\n",
      "Epoch 6/10\n",
      "3000/3000 [==============================] - 52s 17ms/step - loss: 0.0198 - accuracy: 0.9940\n",
      "Epoch 7/10\n",
      "3000/3000 [==============================] - 47s 16ms/step - loss: 0.0162 - accuracy: 0.9949\n",
      "Epoch 8/10\n",
      "3000/3000 [==============================] - 48s 16ms/step - loss: 0.0153 - accuracy: 0.9956\n",
      "Epoch 9/10\n",
      "3000/3000 [==============================] - 48s 16ms/step - loss: 0.0139 - accuracy: 0.9959\n",
      "Epoch 10/10\n",
      "3000/3000 [==============================] - 47s 16ms/step - loss: 0.0138 - accuracy: 0.9959\n"
     ]
    },
    {
     "data": {
      "text/plain": [
       "<keras.src.callbacks.History at 0x1a30e160f10>"
      ]
     },
     "execution_count": 113,
     "metadata": {},
     "output_type": "execute_result"
    }
   ],
   "source": [
    "mnist_model.fit(x_train_m, y_train_m, epochs=10, verbose = 1, batch_size = 20)"
   ]
  },
  {
   "cell_type": "code",
   "execution_count": 114,
   "id": "62da6a7b",
   "metadata": {},
   "outputs": [
    {
     "name": "stdout",
     "output_type": "stream",
     "text": [
      "313/313 [==============================] - 2s 7ms/step - loss: 0.0324 - accuracy: 0.9915\n"
     ]
    },
    {
     "data": {
      "text/plain": [
       "[0.03244533762335777, 0.9915000200271606]"
      ]
     },
     "execution_count": 114,
     "metadata": {},
     "output_type": "execute_result"
    }
   ],
   "source": [
    "mnist_model.evaluate(x_test_m, y_test_m)"
   ]
  },
  {
   "cell_type": "markdown",
   "id": "0bc2b2cb",
   "metadata": {},
   "source": [
    "### Saving the model"
   ]
  },
  {
   "cell_type": "code",
   "execution_count": 116,
   "id": "3f19b1a0",
   "metadata": {},
   "outputs": [],
   "source": [
    "mnist_model.save(filepath = \"mnist_model.keras\")"
   ]
  },
  {
   "cell_type": "markdown",
   "id": "39c3c5d6",
   "metadata": {},
   "source": [
    "### Reloading the model without softmax (classification) layer"
   ]
  },
  {
   "cell_type": "code",
   "execution_count": 117,
   "id": "ad87517f",
   "metadata": {},
   "outputs": [],
   "source": [
    "original_model = tf.keras.models.load_model('mnist_model.keras')"
   ]
  },
  {
   "cell_type": "code",
   "execution_count": 118,
   "id": "0bd92730",
   "metadata": {},
   "outputs": [
    {
     "name": "stdout",
     "output_type": "stream",
     "text": [
      "Model: \"model_8\"\n",
      "_________________________________________________________________\n",
      " Layer (type)                Output Shape              Param #   \n",
      "=================================================================\n",
      " input_8 (InputLayer)        [(None, 28, 28, 1)]       0         \n",
      "                                                                 \n",
      " conv2d_21 (Conv2D)          (None, 28, 28, 16)        160       \n",
      "                                                                 \n",
      " max_pooling2d_21 (MaxPooli  (None, 14, 14, 16)        0         \n",
      " ng2D)                                                           \n",
      "                                                                 \n",
      " conv2d_22 (Conv2D)          (None, 14, 14, 32)        4640      \n",
      "                                                                 \n",
      " max_pooling2d_22 (MaxPooli  (None, 7, 7, 32)          0         \n",
      " ng2D)                                                           \n",
      "                                                                 \n",
      " conv2d_23 (Conv2D)          (None, 7, 7, 64)          18496     \n",
      "                                                                 \n",
      " max_pooling2d_23 (MaxPooli  (None, 3, 3, 64)          0         \n",
      " ng2D)                                                           \n",
      "                                                                 \n",
      " flatten_7 (Flatten)         (None, 576)               0         \n",
      "                                                                 \n",
      " dense_22 (Dense)            (None, 160)               92320     \n",
      "                                                                 \n",
      " dense_23 (Dense)            (None, 84)                13524     \n",
      "                                                                 \n",
      " dense_24 (Dense)            (None, 10)                850       \n",
      "                                                                 \n",
      "=================================================================\n",
      "Total params: 129990 (507.77 KB)\n",
      "Trainable params: 129990 (507.77 KB)\n",
      "Non-trainable params: 0 (0.00 Byte)\n",
      "_________________________________________________________________\n"
     ]
    }
   ],
   "source": [
    "original_model.summary()"
   ]
  },
  {
   "cell_type": "code",
   "execution_count": 119,
   "id": "de6b4608",
   "metadata": {},
   "outputs": [],
   "source": [
    "shared_layers = tf.keras.models.Sequential([layer for layer in original_model.layers\n",
    "                                            if layer not in [original_model.layers[-2],\n",
    "                                         original_model.layers[-1]]])"
   ]
  },
  {
   "cell_type": "code",
   "execution_count": 120,
   "id": "f1f7ba75",
   "metadata": {},
   "outputs": [
    {
     "name": "stdout",
     "output_type": "stream",
     "text": [
      "Model: \"sequential_1\"\n",
      "_________________________________________________________________\n",
      " Layer (type)                Output Shape              Param #   \n",
      "=================================================================\n",
      " conv2d_21 (Conv2D)          (None, 28, 28, 16)        160       \n",
      "                                                                 \n",
      " max_pooling2d_21 (MaxPooli  (None, 14, 14, 16)        0         \n",
      " ng2D)                                                           \n",
      "                                                                 \n",
      " conv2d_22 (Conv2D)          (None, 14, 14, 32)        4640      \n",
      "                                                                 \n",
      " max_pooling2d_22 (MaxPooli  (None, 7, 7, 32)          0         \n",
      " ng2D)                                                           \n",
      "                                                                 \n",
      " conv2d_23 (Conv2D)          (None, 7, 7, 64)          18496     \n",
      "                                                                 \n",
      " max_pooling2d_23 (MaxPooli  (None, 3, 3, 64)          0         \n",
      " ng2D)                                                           \n",
      "                                                                 \n",
      " flatten_7 (Flatten)         (None, 576)               0         \n",
      "                                                                 \n",
      " dense_22 (Dense)            (None, 160)               92320     \n",
      "                                                                 \n",
      "=================================================================\n",
      "Total params: 115616 (451.62 KB)\n",
      "Trainable params: 115616 (451.62 KB)\n",
      "Non-trainable params: 0 (0.00 Byte)\n",
      "_________________________________________________________________\n"
     ]
    }
   ],
   "source": [
    "shared_layers.summary()"
   ]
  },
  {
   "cell_type": "code",
   "execution_count": 121,
   "id": "8e73163b",
   "metadata": {},
   "outputs": [],
   "source": [
    "embedding_model = tf.keras.models.Model(shared_layers.input, Dense(84)(shared_layers.output))"
   ]
  },
  {
   "cell_type": "code",
   "execution_count": 122,
   "id": "0edd61c2",
   "metadata": {},
   "outputs": [],
   "source": [
    "for layer in embedding_model.layers:\n",
    "\tlayer.trainable = False"
   ]
  },
  {
   "cell_type": "code",
   "execution_count": 123,
   "id": "81d89098",
   "metadata": {},
   "outputs": [
    {
     "name": "stdout",
     "output_type": "stream",
     "text": [
      "Model: \"model_9\"\n",
      "_________________________________________________________________\n",
      " Layer (type)                Output Shape              Param #   \n",
      "=================================================================\n",
      " input_8 (InputLayer)        [(None, 28, 28, 1)]       0         \n",
      "                                                                 \n",
      " conv2d_21 (Conv2D)          (None, 28, 28, 16)        160       \n",
      "                                                                 \n",
      " max_pooling2d_21 (MaxPooli  (None, 14, 14, 16)        0         \n",
      " ng2D)                                                           \n",
      "                                                                 \n",
      " conv2d_22 (Conv2D)          (None, 14, 14, 32)        4640      \n",
      "                                                                 \n",
      " max_pooling2d_22 (MaxPooli  (None, 7, 7, 32)          0         \n",
      " ng2D)                                                           \n",
      "                                                                 \n",
      " conv2d_23 (Conv2D)          (None, 7, 7, 64)          18496     \n",
      "                                                                 \n",
      " max_pooling2d_23 (MaxPooli  (None, 3, 3, 64)          0         \n",
      " ng2D)                                                           \n",
      "                                                                 \n",
      " flatten_7 (Flatten)         (None, 576)               0         \n",
      "                                                                 \n",
      " dense_22 (Dense)            (None, 160)               92320     \n",
      "                                                                 \n",
      " dense_25 (Dense)            (None, 84)                13524     \n",
      "                                                                 \n",
      "=================================================================\n",
      "Total params: 129140 (504.45 KB)\n",
      "Trainable params: 0 (0.00 Byte)\n",
      "Non-trainable params: 129140 (504.45 KB)\n",
      "_________________________________________________________________\n"
     ]
    }
   ],
   "source": [
    "embedding_model.summary()"
   ]
  },
  {
   "cell_type": "markdown",
   "id": "1f320bbd",
   "metadata": {},
   "source": [
    "## data preparing for feature selection"
   ]
  },
  {
   "cell_type": "code",
   "execution_count": 124,
   "id": "06e9463a",
   "metadata": {},
   "outputs": [],
   "source": [
    "x_train_m, y_train_m = x_train_m[:5000], y_train_m[:5000]\n",
    "x_test_m, y_test_m = x_test_m[:2000], y_test_m[:2000]"
   ]
  },
  {
   "cell_type": "code",
   "execution_count": 125,
   "id": "a4194980",
   "metadata": {},
   "outputs": [
    {
     "data": {
      "text/plain": [
       "((5000, 28, 28), (2000, 28, 28))"
      ]
     },
     "execution_count": 125,
     "metadata": {},
     "output_type": "execute_result"
    }
   ],
   "source": [
    "x_train_m.shape, x_test_m.shape"
   ]
  },
  {
   "cell_type": "code",
   "execution_count": 126,
   "id": "5aca0fe1",
   "metadata": {},
   "outputs": [
    {
     "data": {
      "text/plain": [
       "((5000,), (2000,))"
      ]
     },
     "execution_count": 126,
     "metadata": {},
     "output_type": "execute_result"
    }
   ],
   "source": [
    "y_train_m.shape, y_test_m.shape"
   ]
  },
  {
   "cell_type": "code",
   "execution_count": 127,
   "id": "cec1e93d",
   "metadata": {},
   "outputs": [],
   "source": [
    "embedded_images_train = embedding_model(x_train_m)"
   ]
  },
  {
   "cell_type": "code",
   "execution_count": 129,
   "id": "7976cafd",
   "metadata": {},
   "outputs": [
    {
     "data": {
      "text/plain": [
       "TensorShape([5000, 84])"
      ]
     },
     "execution_count": 129,
     "metadata": {},
     "output_type": "execute_result"
    }
   ],
   "source": [
    "embedded_images_train.shape"
   ]
  },
  {
   "cell_type": "code",
   "execution_count": 130,
   "id": "5071dbbb",
   "metadata": {},
   "outputs": [],
   "source": [
    "embedded_images_test = embedding_model(x_test_m)"
   ]
  },
  {
   "cell_type": "code",
   "execution_count": 131,
   "id": "57a2a50b",
   "metadata": {},
   "outputs": [
    {
     "data": {
      "text/plain": [
       "TensorShape([2000, 84])"
      ]
     },
     "execution_count": 131,
     "metadata": {},
     "output_type": "execute_result"
    }
   ],
   "source": [
    "embedded_images_test.shape"
   ]
  },
  {
   "cell_type": "code",
   "execution_count": 132,
   "id": "2d4e694d",
   "metadata": {},
   "outputs": [
    {
     "data": {
      "text/html": [
       "<div>\n",
       "<style scoped>\n",
       "    .dataframe tbody tr th:only-of-type {\n",
       "        vertical-align: middle;\n",
       "    }\n",
       "\n",
       "    .dataframe tbody tr th {\n",
       "        vertical-align: top;\n",
       "    }\n",
       "\n",
       "    .dataframe thead th {\n",
       "        text-align: right;\n",
       "    }\n",
       "</style>\n",
       "<table border=\"1\" class=\"dataframe\">\n",
       "  <thead>\n",
       "    <tr style=\"text-align: right;\">\n",
       "      <th></th>\n",
       "      <th>0</th>\n",
       "      <th>1</th>\n",
       "      <th>2</th>\n",
       "      <th>3</th>\n",
       "      <th>4</th>\n",
       "      <th>5</th>\n",
       "      <th>6</th>\n",
       "      <th>7</th>\n",
       "      <th>8</th>\n",
       "      <th>9</th>\n",
       "      <th>...</th>\n",
       "      <th>74</th>\n",
       "      <th>75</th>\n",
       "      <th>76</th>\n",
       "      <th>77</th>\n",
       "      <th>78</th>\n",
       "      <th>79</th>\n",
       "      <th>80</th>\n",
       "      <th>81</th>\n",
       "      <th>82</th>\n",
       "      <th>83</th>\n",
       "    </tr>\n",
       "  </thead>\n",
       "  <tbody>\n",
       "    <tr>\n",
       "      <th>0</th>\n",
       "      <td>-0.891805</td>\n",
       "      <td>0.482379</td>\n",
       "      <td>1.831038</td>\n",
       "      <td>3.128067</td>\n",
       "      <td>-3.168616</td>\n",
       "      <td>0.310158</td>\n",
       "      <td>-1.952626</td>\n",
       "      <td>1.408112</td>\n",
       "      <td>0.856157</td>\n",
       "      <td>-3.261988</td>\n",
       "      <td>...</td>\n",
       "      <td>1.124495</td>\n",
       "      <td>0.089439</td>\n",
       "      <td>-0.813774</td>\n",
       "      <td>0.970476</td>\n",
       "      <td>-3.710133</td>\n",
       "      <td>-0.107478</td>\n",
       "      <td>1.030414</td>\n",
       "      <td>-0.694913</td>\n",
       "      <td>-0.462161</td>\n",
       "      <td>-2.371972</td>\n",
       "    </tr>\n",
       "    <tr>\n",
       "      <th>1</th>\n",
       "      <td>0.523846</td>\n",
       "      <td>-2.436496</td>\n",
       "      <td>0.694970</td>\n",
       "      <td>1.256591</td>\n",
       "      <td>-0.803966</td>\n",
       "      <td>-0.388208</td>\n",
       "      <td>-3.886358</td>\n",
       "      <td>2.538142</td>\n",
       "      <td>0.940025</td>\n",
       "      <td>0.783733</td>\n",
       "      <td>...</td>\n",
       "      <td>-0.718171</td>\n",
       "      <td>-1.134109</td>\n",
       "      <td>-0.760270</td>\n",
       "      <td>-0.829913</td>\n",
       "      <td>-0.004677</td>\n",
       "      <td>1.291276</td>\n",
       "      <td>-0.194492</td>\n",
       "      <td>1.479330</td>\n",
       "      <td>1.490711</td>\n",
       "      <td>-0.653939</td>\n",
       "    </tr>\n",
       "    <tr>\n",
       "      <th>2</th>\n",
       "      <td>0.867113</td>\n",
       "      <td>-0.780461</td>\n",
       "      <td>-0.022531</td>\n",
       "      <td>3.760440</td>\n",
       "      <td>-1.605006</td>\n",
       "      <td>0.484115</td>\n",
       "      <td>-3.771678</td>\n",
       "      <td>-3.060952</td>\n",
       "      <td>0.465825</td>\n",
       "      <td>-2.575496</td>\n",
       "      <td>...</td>\n",
       "      <td>-0.524888</td>\n",
       "      <td>0.374016</td>\n",
       "      <td>0.712460</td>\n",
       "      <td>0.325882</td>\n",
       "      <td>2.290784</td>\n",
       "      <td>1.080653</td>\n",
       "      <td>1.201184</td>\n",
       "      <td>0.869019</td>\n",
       "      <td>-1.087664</td>\n",
       "      <td>4.912929</td>\n",
       "    </tr>\n",
       "    <tr>\n",
       "      <th>3</th>\n",
       "      <td>-0.027450</td>\n",
       "      <td>0.301518</td>\n",
       "      <td>-0.445514</td>\n",
       "      <td>-0.159057</td>\n",
       "      <td>0.588068</td>\n",
       "      <td>0.558247</td>\n",
       "      <td>-0.060621</td>\n",
       "      <td>0.357667</td>\n",
       "      <td>-0.507944</td>\n",
       "      <td>-2.219606</td>\n",
       "      <td>...</td>\n",
       "      <td>-1.209501</td>\n",
       "      <td>0.618653</td>\n",
       "      <td>-0.189104</td>\n",
       "      <td>-0.441354</td>\n",
       "      <td>-0.530407</td>\n",
       "      <td>-0.132526</td>\n",
       "      <td>-0.158984</td>\n",
       "      <td>0.183936</td>\n",
       "      <td>-0.681104</td>\n",
       "      <td>0.046986</td>\n",
       "    </tr>\n",
       "    <tr>\n",
       "      <th>4</th>\n",
       "      <td>0.011452</td>\n",
       "      <td>-0.804941</td>\n",
       "      <td>0.630992</td>\n",
       "      <td>-0.707510</td>\n",
       "      <td>-0.410322</td>\n",
       "      <td>0.248321</td>\n",
       "      <td>-1.076778</td>\n",
       "      <td>-0.714587</td>\n",
       "      <td>-1.575766</td>\n",
       "      <td>-0.605407</td>\n",
       "      <td>...</td>\n",
       "      <td>-0.871581</td>\n",
       "      <td>1.056443</td>\n",
       "      <td>-0.249168</td>\n",
       "      <td>0.110555</td>\n",
       "      <td>2.457627</td>\n",
       "      <td>-0.606718</td>\n",
       "      <td>-1.531165</td>\n",
       "      <td>0.268448</td>\n",
       "      <td>-1.406549</td>\n",
       "      <td>1.613683</td>\n",
       "    </tr>\n",
       "    <tr>\n",
       "      <th>...</th>\n",
       "      <td>...</td>\n",
       "      <td>...</td>\n",
       "      <td>...</td>\n",
       "      <td>...</td>\n",
       "      <td>...</td>\n",
       "      <td>...</td>\n",
       "      <td>...</td>\n",
       "      <td>...</td>\n",
       "      <td>...</td>\n",
       "      <td>...</td>\n",
       "      <td>...</td>\n",
       "      <td>...</td>\n",
       "      <td>...</td>\n",
       "      <td>...</td>\n",
       "      <td>...</td>\n",
       "      <td>...</td>\n",
       "      <td>...</td>\n",
       "      <td>...</td>\n",
       "      <td>...</td>\n",
       "      <td>...</td>\n",
       "      <td>...</td>\n",
       "    </tr>\n",
       "    <tr>\n",
       "      <th>6995</th>\n",
       "      <td>1.414796</td>\n",
       "      <td>-2.320445</td>\n",
       "      <td>0.242451</td>\n",
       "      <td>2.103952</td>\n",
       "      <td>0.002548</td>\n",
       "      <td>-0.686958</td>\n",
       "      <td>-3.197284</td>\n",
       "      <td>1.487642</td>\n",
       "      <td>0.351295</td>\n",
       "      <td>0.476450</td>\n",
       "      <td>...</td>\n",
       "      <td>0.029691</td>\n",
       "      <td>-1.280335</td>\n",
       "      <td>-0.776648</td>\n",
       "      <td>-0.931581</td>\n",
       "      <td>-0.579349</td>\n",
       "      <td>0.037480</td>\n",
       "      <td>-0.805631</td>\n",
       "      <td>0.681172</td>\n",
       "      <td>1.715361</td>\n",
       "      <td>-0.462475</td>\n",
       "    </tr>\n",
       "    <tr>\n",
       "      <th>6996</th>\n",
       "      <td>0.907146</td>\n",
       "      <td>-0.725298</td>\n",
       "      <td>-0.400692</td>\n",
       "      <td>0.198659</td>\n",
       "      <td>-1.384743</td>\n",
       "      <td>-1.847471</td>\n",
       "      <td>-4.485352</td>\n",
       "      <td>-0.273968</td>\n",
       "      <td>-0.550772</td>\n",
       "      <td>-1.700018</td>\n",
       "      <td>...</td>\n",
       "      <td>-1.452736</td>\n",
       "      <td>-2.734696</td>\n",
       "      <td>-2.665132</td>\n",
       "      <td>-1.067092</td>\n",
       "      <td>-1.404757</td>\n",
       "      <td>1.712034</td>\n",
       "      <td>0.687525</td>\n",
       "      <td>-0.330435</td>\n",
       "      <td>-2.821778</td>\n",
       "      <td>2.167486</td>\n",
       "    </tr>\n",
       "    <tr>\n",
       "      <th>6997</th>\n",
       "      <td>1.061581</td>\n",
       "      <td>-0.562993</td>\n",
       "      <td>0.837881</td>\n",
       "      <td>-0.722836</td>\n",
       "      <td>0.083442</td>\n",
       "      <td>0.244304</td>\n",
       "      <td>-1.505105</td>\n",
       "      <td>0.013059</td>\n",
       "      <td>0.400589</td>\n",
       "      <td>-1.741516</td>\n",
       "      <td>...</td>\n",
       "      <td>2.188265</td>\n",
       "      <td>-1.066859</td>\n",
       "      <td>-0.939436</td>\n",
       "      <td>2.318838</td>\n",
       "      <td>-0.054961</td>\n",
       "      <td>1.418116</td>\n",
       "      <td>-1.715456</td>\n",
       "      <td>1.834245</td>\n",
       "      <td>0.997585</td>\n",
       "      <td>0.433014</td>\n",
       "    </tr>\n",
       "    <tr>\n",
       "      <th>6998</th>\n",
       "      <td>0.259761</td>\n",
       "      <td>-0.787066</td>\n",
       "      <td>0.451722</td>\n",
       "      <td>-0.430294</td>\n",
       "      <td>0.238930</td>\n",
       "      <td>-0.025186</td>\n",
       "      <td>-0.462673</td>\n",
       "      <td>-0.530236</td>\n",
       "      <td>-1.532721</td>\n",
       "      <td>-0.234053</td>\n",
       "      <td>...</td>\n",
       "      <td>-0.449566</td>\n",
       "      <td>0.517703</td>\n",
       "      <td>0.461223</td>\n",
       "      <td>-0.938362</td>\n",
       "      <td>1.513060</td>\n",
       "      <td>-0.220509</td>\n",
       "      <td>-1.169215</td>\n",
       "      <td>0.466416</td>\n",
       "      <td>-0.935685</td>\n",
       "      <td>2.223972</td>\n",
       "    </tr>\n",
       "    <tr>\n",
       "      <th>6999</th>\n",
       "      <td>-0.858811</td>\n",
       "      <td>0.681570</td>\n",
       "      <td>1.626084</td>\n",
       "      <td>1.894311</td>\n",
       "      <td>-2.428457</td>\n",
       "      <td>-0.307390</td>\n",
       "      <td>-0.811985</td>\n",
       "      <td>1.696395</td>\n",
       "      <td>-0.740681</td>\n",
       "      <td>-2.234429</td>\n",
       "      <td>...</td>\n",
       "      <td>0.511622</td>\n",
       "      <td>-0.745914</td>\n",
       "      <td>0.185700</td>\n",
       "      <td>0.674926</td>\n",
       "      <td>-2.436474</td>\n",
       "      <td>-0.251164</td>\n",
       "      <td>0.733845</td>\n",
       "      <td>-0.977715</td>\n",
       "      <td>-0.346928</td>\n",
       "      <td>-1.499182</td>\n",
       "    </tr>\n",
       "  </tbody>\n",
       "</table>\n",
       "<p>7000 rows × 84 columns</p>\n",
       "</div>"
      ],
      "text/plain": [
       "             0         1         2         3         4         5         6  \\\n",
       "0    -0.891805  0.482379  1.831038  3.128067 -3.168616  0.310158 -1.952626   \n",
       "1     0.523846 -2.436496  0.694970  1.256591 -0.803966 -0.388208 -3.886358   \n",
       "2     0.867113 -0.780461 -0.022531  3.760440 -1.605006  0.484115 -3.771678   \n",
       "3    -0.027450  0.301518 -0.445514 -0.159057  0.588068  0.558247 -0.060621   \n",
       "4     0.011452 -0.804941  0.630992 -0.707510 -0.410322  0.248321 -1.076778   \n",
       "...        ...       ...       ...       ...       ...       ...       ...   \n",
       "6995  1.414796 -2.320445  0.242451  2.103952  0.002548 -0.686958 -3.197284   \n",
       "6996  0.907146 -0.725298 -0.400692  0.198659 -1.384743 -1.847471 -4.485352   \n",
       "6997  1.061581 -0.562993  0.837881 -0.722836  0.083442  0.244304 -1.505105   \n",
       "6998  0.259761 -0.787066  0.451722 -0.430294  0.238930 -0.025186 -0.462673   \n",
       "6999 -0.858811  0.681570  1.626084  1.894311 -2.428457 -0.307390 -0.811985   \n",
       "\n",
       "             7         8         9  ...        74        75        76  \\\n",
       "0     1.408112  0.856157 -3.261988  ...  1.124495  0.089439 -0.813774   \n",
       "1     2.538142  0.940025  0.783733  ... -0.718171 -1.134109 -0.760270   \n",
       "2    -3.060952  0.465825 -2.575496  ... -0.524888  0.374016  0.712460   \n",
       "3     0.357667 -0.507944 -2.219606  ... -1.209501  0.618653 -0.189104   \n",
       "4    -0.714587 -1.575766 -0.605407  ... -0.871581  1.056443 -0.249168   \n",
       "...        ...       ...       ...  ...       ...       ...       ...   \n",
       "6995  1.487642  0.351295  0.476450  ...  0.029691 -1.280335 -0.776648   \n",
       "6996 -0.273968 -0.550772 -1.700018  ... -1.452736 -2.734696 -2.665132   \n",
       "6997  0.013059  0.400589 -1.741516  ...  2.188265 -1.066859 -0.939436   \n",
       "6998 -0.530236 -1.532721 -0.234053  ... -0.449566  0.517703  0.461223   \n",
       "6999  1.696395 -0.740681 -2.234429  ...  0.511622 -0.745914  0.185700   \n",
       "\n",
       "            77        78        79        80        81        82        83  \n",
       "0     0.970476 -3.710133 -0.107478  1.030414 -0.694913 -0.462161 -2.371972  \n",
       "1    -0.829913 -0.004677  1.291276 -0.194492  1.479330  1.490711 -0.653939  \n",
       "2     0.325882  2.290784  1.080653  1.201184  0.869019 -1.087664  4.912929  \n",
       "3    -0.441354 -0.530407 -0.132526 -0.158984  0.183936 -0.681104  0.046986  \n",
       "4     0.110555  2.457627 -0.606718 -1.531165  0.268448 -1.406549  1.613683  \n",
       "...        ...       ...       ...       ...       ...       ...       ...  \n",
       "6995 -0.931581 -0.579349  0.037480 -0.805631  0.681172  1.715361 -0.462475  \n",
       "6996 -1.067092 -1.404757  1.712034  0.687525 -0.330435 -2.821778  2.167486  \n",
       "6997  2.318838 -0.054961  1.418116 -1.715456  1.834245  0.997585  0.433014  \n",
       "6998 -0.938362  1.513060 -0.220509 -1.169215  0.466416 -0.935685  2.223972  \n",
       "6999  0.674926 -2.436474 -0.251164  0.733845 -0.977715 -0.346928 -1.499182  \n",
       "\n",
       "[7000 rows x 84 columns]"
      ]
     },
     "execution_count": 132,
     "metadata": {},
     "output_type": "execute_result"
    }
   ],
   "source": [
    "# Create a DataFrame with the training data\n",
    "mnist_train = pd.DataFrame(data = embedded_images_train, columns = [str(i) for i in range(84)])\n",
    "\n",
    "# Create a DataFrame with the testing data\n",
    "mnist_test = pd.DataFrame(data = embedded_images_test, columns = [str(i) for i in range(84)])\n",
    "\n",
    "# Concatenate the training and testing DataFrames\n",
    "mnist_data = pd.concat([mnist_train, mnist_test], ignore_index=True)\n",
    "mnist_data.reset_index(inplace = True, drop = True)\n",
    "# Display the resulting DataFrame\n",
    "mnist_data"
   ]
  },
  {
   "cell_type": "code",
   "execution_count": 134,
   "id": "11ab8fb6",
   "metadata": {},
   "outputs": [],
   "source": [
    "mnist_label = np.concatenate([y_train_m, y_test_m])\n",
    "mnist_label = pd.DataFrame(data = mnist_label, columns = ['class'])\n",
    "scaler = MinMaxScaler()\n",
    "scaler.fit(mnist_data)\n",
    "mnist_data = pd.DataFrame(scaler.transform(mnist_data), columns = mnist_data.columns)\n",
    "xtrain, xtest, ytrain, ytest = train_test_split(mnist_data, mnist_label, test_size=2/7, stratify=mnist_label)"
   ]
  },
  {
   "cell_type": "code",
   "execution_count": 135,
   "id": "f7ba0667",
   "metadata": {},
   "outputs": [
    {
     "data": {
      "text/plain": [
       "((5000, 84), (2000, 84), (5000, 1), (2000, 1))"
      ]
     },
     "execution_count": 135,
     "metadata": {},
     "output_type": "execute_result"
    }
   ],
   "source": [
    "xtrain.shape, xtest.shape, ytrain.shape, ytest.shape"
   ]
  },
  {
   "cell_type": "code",
   "execution_count": 136,
   "id": "1c7aecd4",
   "metadata": {},
   "outputs": [
    {
     "data": {
      "text/html": [
       "<div>\n",
       "<style scoped>\n",
       "    .dataframe tbody tr th:only-of-type {\n",
       "        vertical-align: middle;\n",
       "    }\n",
       "\n",
       "    .dataframe tbody tr th {\n",
       "        vertical-align: top;\n",
       "    }\n",
       "\n",
       "    .dataframe thead th {\n",
       "        text-align: right;\n",
       "    }\n",
       "</style>\n",
       "<table border=\"1\" class=\"dataframe\">\n",
       "  <thead>\n",
       "    <tr style=\"text-align: right;\">\n",
       "      <th></th>\n",
       "      <th>0</th>\n",
       "      <th>1</th>\n",
       "      <th>2</th>\n",
       "      <th>3</th>\n",
       "      <th>4</th>\n",
       "      <th>5</th>\n",
       "      <th>6</th>\n",
       "      <th>7</th>\n",
       "      <th>8</th>\n",
       "      <th>9</th>\n",
       "      <th>...</th>\n",
       "      <th>74</th>\n",
       "      <th>75</th>\n",
       "      <th>76</th>\n",
       "      <th>77</th>\n",
       "      <th>78</th>\n",
       "      <th>79</th>\n",
       "      <th>80</th>\n",
       "      <th>81</th>\n",
       "      <th>82</th>\n",
       "      <th>83</th>\n",
       "    </tr>\n",
       "  </thead>\n",
       "  <tbody>\n",
       "    <tr>\n",
       "      <th>0</th>\n",
       "      <td>0.389386</td>\n",
       "      <td>0.606973</td>\n",
       "      <td>0.574879</td>\n",
       "      <td>0.760761</td>\n",
       "      <td>0.365912</td>\n",
       "      <td>0.459758</td>\n",
       "      <td>0.559360</td>\n",
       "      <td>0.617681</td>\n",
       "      <td>0.696560</td>\n",
       "      <td>0.315163</td>\n",
       "      <td>...</td>\n",
       "      <td>0.755896</td>\n",
       "      <td>0.653547</td>\n",
       "      <td>0.565750</td>\n",
       "      <td>0.560491</td>\n",
       "      <td>0.208358</td>\n",
       "      <td>0.371081</td>\n",
       "      <td>0.695649</td>\n",
       "      <td>0.340697</td>\n",
       "      <td>0.518801</td>\n",
       "      <td>0.166556</td>\n",
       "    </tr>\n",
       "    <tr>\n",
       "      <th>1</th>\n",
       "      <td>0.578108</td>\n",
       "      <td>0.283798</td>\n",
       "      <td>0.434944</td>\n",
       "      <td>0.554021</td>\n",
       "      <td>0.629448</td>\n",
       "      <td>0.347773</td>\n",
       "      <td>0.301177</td>\n",
       "      <td>0.728688</td>\n",
       "      <td>0.711621</td>\n",
       "      <td>0.841781</td>\n",
       "      <td>...</td>\n",
       "      <td>0.582515</td>\n",
       "      <td>0.458192</td>\n",
       "      <td>0.573475</td>\n",
       "      <td>0.324797</td>\n",
       "      <td>0.549649</td>\n",
       "      <td>0.553725</td>\n",
       "      <td>0.477841</td>\n",
       "      <td>0.628842</td>\n",
       "      <td>0.754442</td>\n",
       "      <td>0.299828</td>\n",
       "    </tr>\n",
       "    <tr>\n",
       "      <th>2</th>\n",
       "      <td>0.623869</td>\n",
       "      <td>0.467152</td>\n",
       "      <td>0.346565</td>\n",
       "      <td>0.830619</td>\n",
       "      <td>0.540174</td>\n",
       "      <td>0.487653</td>\n",
       "      <td>0.316489</td>\n",
       "      <td>0.178669</td>\n",
       "      <td>0.626462</td>\n",
       "      <td>0.404522</td>\n",
       "      <td>...</td>\n",
       "      <td>0.600702</td>\n",
       "      <td>0.698983</td>\n",
       "      <td>0.786119</td>\n",
       "      <td>0.476106</td>\n",
       "      <td>0.761072</td>\n",
       "      <td>0.526223</td>\n",
       "      <td>0.726015</td>\n",
       "      <td>0.547960</td>\n",
       "      <td>0.443326</td>\n",
       "      <td>0.731664</td>\n",
       "    </tr>\n",
       "    <tr>\n",
       "      <th>3</th>\n",
       "      <td>0.504614</td>\n",
       "      <td>0.586948</td>\n",
       "      <td>0.294464</td>\n",
       "      <td>0.397635</td>\n",
       "      <td>0.784589</td>\n",
       "      <td>0.499540</td>\n",
       "      <td>0.811971</td>\n",
       "      <td>0.514492</td>\n",
       "      <td>0.451586</td>\n",
       "      <td>0.450847</td>\n",
       "      <td>...</td>\n",
       "      <td>0.536285</td>\n",
       "      <td>0.738042</td>\n",
       "      <td>0.655944</td>\n",
       "      <td>0.375664</td>\n",
       "      <td>0.501226</td>\n",
       "      <td>0.367810</td>\n",
       "      <td>0.484155</td>\n",
       "      <td>0.457168</td>\n",
       "      <td>0.492383</td>\n",
       "      <td>0.354201</td>\n",
       "    </tr>\n",
       "    <tr>\n",
       "      <th>4</th>\n",
       "      <td>0.509800</td>\n",
       "      <td>0.464442</td>\n",
       "      <td>0.427063</td>\n",
       "      <td>0.337048</td>\n",
       "      <td>0.673319</td>\n",
       "      <td>0.449842</td>\n",
       "      <td>0.676299</td>\n",
       "      <td>0.409161</td>\n",
       "      <td>0.259821</td>\n",
       "      <td>0.660962</td>\n",
       "      <td>...</td>\n",
       "      <td>0.568080</td>\n",
       "      <td>0.807941</td>\n",
       "      <td>0.647272</td>\n",
       "      <td>0.447916</td>\n",
       "      <td>0.776439</td>\n",
       "      <td>0.305892</td>\n",
       "      <td>0.240158</td>\n",
       "      <td>0.468368</td>\n",
       "      <td>0.404848</td>\n",
       "      <td>0.475733</td>\n",
       "    </tr>\n",
       "    <tr>\n",
       "      <th>...</th>\n",
       "      <td>...</td>\n",
       "      <td>...</td>\n",
       "      <td>...</td>\n",
       "      <td>...</td>\n",
       "      <td>...</td>\n",
       "      <td>...</td>\n",
       "      <td>...</td>\n",
       "      <td>...</td>\n",
       "      <td>...</td>\n",
       "      <td>...</td>\n",
       "      <td>...</td>\n",
       "      <td>...</td>\n",
       "      <td>...</td>\n",
       "      <td>...</td>\n",
       "      <td>...</td>\n",
       "      <td>...</td>\n",
       "      <td>...</td>\n",
       "      <td>...</td>\n",
       "      <td>...</td>\n",
       "      <td>...</td>\n",
       "      <td>...</td>\n",
       "    </tr>\n",
       "    <tr>\n",
       "      <th>6995</th>\n",
       "      <td>0.696882</td>\n",
       "      <td>0.296647</td>\n",
       "      <td>0.379205</td>\n",
       "      <td>0.647628</td>\n",
       "      <td>0.719333</td>\n",
       "      <td>0.299867</td>\n",
       "      <td>0.393179</td>\n",
       "      <td>0.625494</td>\n",
       "      <td>0.605894</td>\n",
       "      <td>0.801784</td>\n",
       "      <td>...</td>\n",
       "      <td>0.652883</td>\n",
       "      <td>0.434846</td>\n",
       "      <td>0.571110</td>\n",
       "      <td>0.311487</td>\n",
       "      <td>0.496719</td>\n",
       "      <td>0.390009</td>\n",
       "      <td>0.369170</td>\n",
       "      <td>0.523065</td>\n",
       "      <td>0.781549</td>\n",
       "      <td>0.314681</td>\n",
       "    </tr>\n",
       "    <tr>\n",
       "      <th>6996</th>\n",
       "      <td>0.629206</td>\n",
       "      <td>0.473260</td>\n",
       "      <td>0.299985</td>\n",
       "      <td>0.437152</td>\n",
       "      <td>0.564722</td>\n",
       "      <td>0.113775</td>\n",
       "      <td>0.221202</td>\n",
       "      <td>0.452444</td>\n",
       "      <td>0.443895</td>\n",
       "      <td>0.518480</td>\n",
       "      <td>...</td>\n",
       "      <td>0.513398</td>\n",
       "      <td>0.202639</td>\n",
       "      <td>0.298437</td>\n",
       "      <td>0.293747</td>\n",
       "      <td>0.420695</td>\n",
       "      <td>0.608666</td>\n",
       "      <td>0.634678</td>\n",
       "      <td>0.389000</td>\n",
       "      <td>0.234081</td>\n",
       "      <td>0.518693</td>\n",
       "    </tr>\n",
       "    <tr>\n",
       "      <th>6997</th>\n",
       "      <td>0.649794</td>\n",
       "      <td>0.491230</td>\n",
       "      <td>0.452547</td>\n",
       "      <td>0.335355</td>\n",
       "      <td>0.728349</td>\n",
       "      <td>0.449198</td>\n",
       "      <td>0.619110</td>\n",
       "      <td>0.480640</td>\n",
       "      <td>0.614746</td>\n",
       "      <td>0.513078</td>\n",
       "      <td>...</td>\n",
       "      <td>0.855988</td>\n",
       "      <td>0.468930</td>\n",
       "      <td>0.547606</td>\n",
       "      <td>0.737010</td>\n",
       "      <td>0.545017</td>\n",
       "      <td>0.570288</td>\n",
       "      <td>0.207389</td>\n",
       "      <td>0.675878</td>\n",
       "      <td>0.694940</td>\n",
       "      <td>0.384146</td>\n",
       "    </tr>\n",
       "    <tr>\n",
       "      <th>6998</th>\n",
       "      <td>0.542903</td>\n",
       "      <td>0.466421</td>\n",
       "      <td>0.404981</td>\n",
       "      <td>0.367672</td>\n",
       "      <td>0.745678</td>\n",
       "      <td>0.405985</td>\n",
       "      <td>0.758291</td>\n",
       "      <td>0.427270</td>\n",
       "      <td>0.267551</td>\n",
       "      <td>0.709300</td>\n",
       "      <td>...</td>\n",
       "      <td>0.607789</td>\n",
       "      <td>0.721924</td>\n",
       "      <td>0.749843</td>\n",
       "      <td>0.310599</td>\n",
       "      <td>0.689440</td>\n",
       "      <td>0.356322</td>\n",
       "      <td>0.304519</td>\n",
       "      <td>0.494604</td>\n",
       "      <td>0.461664</td>\n",
       "      <td>0.523075</td>\n",
       "    </tr>\n",
       "    <tr>\n",
       "      <th>6999</th>\n",
       "      <td>0.393784</td>\n",
       "      <td>0.629027</td>\n",
       "      <td>0.549634</td>\n",
       "      <td>0.624469</td>\n",
       "      <td>0.448401</td>\n",
       "      <td>0.360732</td>\n",
       "      <td>0.711652</td>\n",
       "      <td>0.646000</td>\n",
       "      <td>0.409790</td>\n",
       "      <td>0.448917</td>\n",
       "      <td>...</td>\n",
       "      <td>0.698229</td>\n",
       "      <td>0.520173</td>\n",
       "      <td>0.710061</td>\n",
       "      <td>0.521800</td>\n",
       "      <td>0.325668</td>\n",
       "      <td>0.352319</td>\n",
       "      <td>0.642914</td>\n",
       "      <td>0.303218</td>\n",
       "      <td>0.532706</td>\n",
       "      <td>0.234261</td>\n",
       "    </tr>\n",
       "  </tbody>\n",
       "</table>\n",
       "<p>7000 rows × 84 columns</p>\n",
       "</div>"
      ],
      "text/plain": [
       "             0         1         2         3         4         5         6  \\\n",
       "0     0.389386  0.606973  0.574879  0.760761  0.365912  0.459758  0.559360   \n",
       "1     0.578108  0.283798  0.434944  0.554021  0.629448  0.347773  0.301177   \n",
       "2     0.623869  0.467152  0.346565  0.830619  0.540174  0.487653  0.316489   \n",
       "3     0.504614  0.586948  0.294464  0.397635  0.784589  0.499540  0.811971   \n",
       "4     0.509800  0.464442  0.427063  0.337048  0.673319  0.449842  0.676299   \n",
       "...        ...       ...       ...       ...       ...       ...       ...   \n",
       "6995  0.696882  0.296647  0.379205  0.647628  0.719333  0.299867  0.393179   \n",
       "6996  0.629206  0.473260  0.299985  0.437152  0.564722  0.113775  0.221202   \n",
       "6997  0.649794  0.491230  0.452547  0.335355  0.728349  0.449198  0.619110   \n",
       "6998  0.542903  0.466421  0.404981  0.367672  0.745678  0.405985  0.758291   \n",
       "6999  0.393784  0.629027  0.549634  0.624469  0.448401  0.360732  0.711652   \n",
       "\n",
       "             7         8         9  ...        74        75        76  \\\n",
       "0     0.617681  0.696560  0.315163  ...  0.755896  0.653547  0.565750   \n",
       "1     0.728688  0.711621  0.841781  ...  0.582515  0.458192  0.573475   \n",
       "2     0.178669  0.626462  0.404522  ...  0.600702  0.698983  0.786119   \n",
       "3     0.514492  0.451586  0.450847  ...  0.536285  0.738042  0.655944   \n",
       "4     0.409161  0.259821  0.660962  ...  0.568080  0.807941  0.647272   \n",
       "...        ...       ...       ...  ...       ...       ...       ...   \n",
       "6995  0.625494  0.605894  0.801784  ...  0.652883  0.434846  0.571110   \n",
       "6996  0.452444  0.443895  0.518480  ...  0.513398  0.202639  0.298437   \n",
       "6997  0.480640  0.614746  0.513078  ...  0.855988  0.468930  0.547606   \n",
       "6998  0.427270  0.267551  0.709300  ...  0.607789  0.721924  0.749843   \n",
       "6999  0.646000  0.409790  0.448917  ...  0.698229  0.520173  0.710061   \n",
       "\n",
       "            77        78        79        80        81        82        83  \n",
       "0     0.560491  0.208358  0.371081  0.695649  0.340697  0.518801  0.166556  \n",
       "1     0.324797  0.549649  0.553725  0.477841  0.628842  0.754442  0.299828  \n",
       "2     0.476106  0.761072  0.526223  0.726015  0.547960  0.443326  0.731664  \n",
       "3     0.375664  0.501226  0.367810  0.484155  0.457168  0.492383  0.354201  \n",
       "4     0.447916  0.776439  0.305892  0.240158  0.468368  0.404848  0.475733  \n",
       "...        ...       ...       ...       ...       ...       ...       ...  \n",
       "6995  0.311487  0.496719  0.390009  0.369170  0.523065  0.781549  0.314681  \n",
       "6996  0.293747  0.420695  0.608666  0.634678  0.389000  0.234081  0.518693  \n",
       "6997  0.737010  0.545017  0.570288  0.207389  0.675878  0.694940  0.384146  \n",
       "6998  0.310599  0.689440  0.356322  0.304519  0.494604  0.461664  0.523075  \n",
       "6999  0.521800  0.325668  0.352319  0.642914  0.303218  0.532706  0.234261  \n",
       "\n",
       "[7000 rows x 84 columns]"
      ]
     },
     "execution_count": 136,
     "metadata": {},
     "output_type": "execute_result"
    }
   ],
   "source": [
    "mnist_data"
   ]
  },
  {
   "cell_type": "markdown",
   "id": "14ffaa89",
   "metadata": {},
   "source": [
    "# Running the NSGA-2 Algorithm"
   ]
  },
  {
   "attachments": {
    "image.png": {
     "image/png": "[encoded data removed]"
    }
   },
   "cell_type": "markdown",
   "id": "e96b9df6",
   "metadata": {},
   "source": [
    "![image.png](attachment:image.png)"
   ]
  },
  {
   "cell_type": "code",
   "execution_count": 139,
   "id": "b9816c94",
   "metadata": {},
   "outputs": [],
   "source": [
    "class MyProblem(Problem):\n",
    "\n",
    "    def __init__(self):\n",
    "        super().__init__(n_var=84, # decision variables\n",
    "                         n_obj=2, # two objective functions\n",
    "                         n_ieq_constr=1)\n",
    "\n",
    "    def __classification_error__(self,bitstring):\n",
    "        featureNames = []\n",
    "        for i in range(len(bitstring)):\n",
    "            if bitstring[i] == 1:\n",
    "                featureNames.append(mnist_data.columns[i])\n",
    "\n",
    "        if len(featureNames) == 0:\n",
    "            return 1\n",
    "        trainx = pd.DataFrame(xtrain[featureNames])\n",
    "        trainy = ytrain\n",
    "        knn = KNeighborsClassifier(n_neighbors=5)\n",
    "        knn.fit(trainx, trainy.values.ravel())\n",
    "        predy = knn.predict(trainx)\n",
    "        ac = accuracy_score(trainy, predy)\n",
    "        return 1 - ac\n",
    "\n",
    "    def __fetures_number__(self,bitstring):\n",
    "        return sum(bitstring)\n",
    "\n",
    "    def __constrain__(self,bitstring):\n",
    "        return 1 - sum(bitstring)\n",
    "\n",
    "    def _evaluate(self, x, out, *args, **kwargs):\n",
    "        f1 = [self.__fetures_number__(x[i]) for i in range(0, len(x))]\n",
    "        f2 = [self.__classification_error__(x[i]) for i in range(0, len(x))]\n",
    "        g1 = [self.__constrain__(x[i]) for i in range(0, len(x))]\n",
    "        out[\"F\"] = np.column_stack([f1, f2])\n",
    "        out[\"G\"] = np.column_stack([g1])"
   ]
  },
  {
   "cell_type": "code",
   "execution_count": 140,
   "id": "e7c0a3bf",
   "metadata": {},
   "outputs": [
    {
     "name": "stdout",
     "output_type": "stream",
     "text": [
      "Classification error on training sets using all features: 0.005199999999999982\n",
      "Classification error on testing sets using all features: 0.005499999999999949\n",
      "###################################################################################\n"
     ]
    }
   ],
   "source": [
    "f_list = []\n",
    "pop_list = []\n",
    "x_list = []\n",
    "i_f_list = []\n",
    "i_pop_list = []\n",
    "\n",
    "    \n",
    "xtrain, xtest, ytrain, ytest = train_test_split(mnist_data, mnist_label, test_size=2/7, stratify=mnist_label)\n",
    "knn = KNeighborsClassifier(n_neighbors=5)\n",
    "knn.fit(xtrain, ytrain.values.ravel())\n",
    "ypred = knn.predict(xtrain)\n",
    "ac = accuracy_score(ytrain, ypred)\n",
    "print(\"Classification error on training sets using all features: \" + str(1 - ac))\n",
    "ypred = knn.predict(xtest)\n",
    "ac = accuracy_score(ytest, ypred)\n",
    "print(\"Classification error on testing sets using all features: \" + str(1 - ac))\n",
    "\n",
    "print(\"###################################################################################\")\n",
    "problem = MyProblem()\n",
    "\n",
    "algorithm = NSGA2(pop_size=100,\n",
    "                  sampling=BinaryRandomSampling(),\n",
    "                  crossover=UniformCrossover(prob=0.9),\n",
    "                  mutation=BitflipMutation(prob=0.01),\n",
    "                  eliminate_duplicates=True)\n",
    "\n",
    "res = minimize(problem,\n",
    "               algorithm,\n",
    "               (\"n_gen\", 100),\n",
    "               verbose=False,\n",
    "               save_history=True)\n",
    "i_f = res.history[0].opt.get(\"F\")\n",
    "i_pop = res.history[0].pop\n",
    "f = res.F\n",
    "pop = res.pop\n",
    "solutions = res.X"
   ]
  },
  {
   "cell_type": "markdown",
   "id": "9e75fc8b",
   "metadata": {},
   "source": [
    "# Initial and Final Pareto Front"
   ]
  },
  {
   "cell_type": "code",
   "execution_count": 142,
   "id": "c4f5393e",
   "metadata": {},
   "outputs": [
    {
     "name": "stdout",
     "output_type": "stream",
     "text": [
      "the intial pareto front is plotted as: \n"
     ]
    },
    {
     "data": {
      "image/png": "[encoded data removed]",
      "text/plain": [
       "<Figure size 640x480 with 1 Axes>"
      ]
     },
     "metadata": {},
     "output_type": "display_data"
    },
    {
     "name": "stdout",
     "output_type": "stream",
     "text": [
      "the final pareto front is plotted as: \n"
     ]
    },
    {
     "data": {
      "image/png": "[encoded data removed]",
      "text/plain": [
       "<Figure size 640x480 with 1 Axes>"
      ]
     },
     "metadata": {},
     "output_type": "display_data"
    }
   ],
   "source": [
    "print(\"the intial pareto front is plotted as: \")\n",
    "plt.scatter(i_pop.get(\"F\")[:,0], i_pop.get(\"F\")[:,1], edgecolor=\"blue\", facecolor=\"none\", label = \"solutions\")\n",
    "plt.scatter(i_f[:,0], i_f[:,1], marker='*', edgecolor=\"red\", facecolor=\"none\", label = \"optimal pareto front\")\n",
    "plt.xlabel('number of features')\n",
    "plt.ylabel('training error')\n",
    "plt.legend()\n",
    "plt.title(\"visualization of the initial pareto front\")\n",
    "plt.show()\n",
    "print(\"the final pareto front is plotted as: \")\n",
    "plt.scatter(pop.get(\"F\")[:,0], pop.get(\"F\")[:,1], edgecolor=\"blue\", facecolor=\"none\", label = \"solutions\")\n",
    "plt.scatter(f[:,0], f[:,1], marker='*', edgecolor=\"red\", facecolor=\"none\", label = \"optimal pareto front\")\n",
    "plt.xlabel('number of features')\n",
    "plt.ylabel('training error')\n",
    "plt.legend()\n",
    "plt.title(\"visualization of the final pareto front\")\n",
    "plt.show()"
   ]
  },
  {
   "cell_type": "markdown",
   "id": "dd11a2e6",
   "metadata": {},
   "source": [
    "# Performance on training set - selected features"
   ]
  },
  {
   "cell_type": "code",
   "execution_count": 145,
   "id": "75940fa1",
   "metadata": {},
   "outputs": [
    {
     "name": "stdout",
     "output_type": "stream",
     "text": [
      "evaluation of the solutions on the final pareto front\n",
      "solution 0:\n",
      "number of selected features is: 1.0 out of 100\n",
      "corresponding indices: [28]\n",
      "classification error on train sets: 0.5204\n",
      "classification error on test sets: 0.7344999999999999\n",
      "solution 1:\n",
      "number of selected features is: 5.0 out of 100\n",
      "corresponding indices: [9, 28, 39, 79, 80]\n",
      "classification error on train sets: 0.024399999999999977\n",
      "classification error on test sets: 0.03500000000000003\n",
      "solution 2:\n",
      "number of selected features is: 2.0 out of 100\n",
      "corresponding indices: [28, 39]\n",
      "classification error on train sets: 0.252\n",
      "classification error on test sets: 0.35350000000000004\n",
      "solution 3:\n",
      "number of selected features is: 3.0 out of 100\n",
      "corresponding indices: [28, 39, 79]\n",
      "classification error on train sets: 0.1008\n",
      "classification error on test sets: 0.12949999999999995\n",
      "solution 4:\n",
      "number of selected features is: 18.0 out of 100\n",
      "corresponding indices: [8, 9, 16, 20, 21, 27, 28, 29, 39, 42, 44, 49, 54, 66, 76, 79, 80, 83]\n",
      "classification error on train sets: 0.0030000000000000027\n",
      "classification error on test sets: 0.008499999999999952\n",
      "solution 5:\n",
      "number of selected features is: 18.0 out of 100\n",
      "corresponding indices: [9, 16, 20, 21, 27, 28, 29, 30, 49, 54, 57, 66, 67, 69, 71, 76, 79, 80]\n",
      "classification error on train sets: 0.0030000000000000027\n",
      "classification error on test sets: 0.01100000000000001\n",
      "solution 6:\n",
      "number of selected features is: 6.0 out of 100\n",
      "corresponding indices: [14, 28, 39, 66, 79, 80]\n",
      "classification error on train sets: 0.01539999999999997\n",
      "classification error on test sets: 0.01849999999999996\n",
      "solution 7:\n",
      "number of selected features is: 14.0 out of 100\n",
      "corresponding indices: [16, 27, 28, 29, 30, 49, 54, 57, 66, 67, 69, 71, 79, 80]\n",
      "classification error on train sets: 0.0046000000000000485\n",
      "classification error on test sets: 0.010499999999999954\n",
      "solution 8:\n",
      "number of selected features is: 22.0 out of 100\n",
      "corresponding indices: [8, 9, 16, 20, 27, 28, 29, 30, 39, 43, 44, 49, 54, 66, 67, 69, 73, 75, 76, 79, 80, 83]\n",
      "classification error on train sets: 0.0023999999999999577\n",
      "classification error on test sets: 0.009000000000000008\n",
      "solution 9:\n",
      "number of selected features is: 14.0 out of 100\n",
      "corresponding indices: [8, 16, 27, 28, 29, 39, 44, 49, 66, 67, 69, 71, 79, 80]\n",
      "classification error on train sets: 0.0046000000000000485\n",
      "classification error on test sets: 0.008499999999999952\n",
      "solution 10:\n",
      "number of selected features is: 8.0 out of 100\n",
      "corresponding indices: [27, 28, 39, 49, 57, 66, 79, 80]\n",
      "classification error on train sets: 0.009199999999999986\n",
      "classification error on test sets: 0.013499999999999956\n",
      "solution 11:\n",
      "number of selected features is: 23.0 out of 100\n",
      "corresponding indices: [8, 9, 16, 20, 21, 27, 28, 29, 30, 39, 42, 43, 44, 49, 54, 66, 69, 73, 75, 76, 79, 80, 83]\n",
      "classification error on train sets: 0.0021999999999999797\n",
      "classification error on test sets: 0.008499999999999952\n",
      "solution 12:\n",
      "number of selected features is: 15.0 out of 100\n",
      "corresponding indices: [9, 16, 20, 21, 27, 28, 29, 49, 57, 66, 67, 71, 76, 79, 80]\n",
      "classification error on train sets: 0.0040000000000000036\n",
      "classification error on test sets: 0.010000000000000009\n",
      "solution 13:\n",
      "number of selected features is: 19.0 out of 100\n",
      "corresponding indices: [8, 9, 16, 20, 21, 27, 28, 29, 39, 42, 44, 49, 54, 66, 75, 76, 79, 80, 83]\n",
      "classification error on train sets: 0.0028000000000000247\n",
      "classification error on test sets: 0.008499999999999952\n",
      "solution 14:\n",
      "number of selected features is: 10.0 out of 100\n",
      "corresponding indices: [9, 14, 28, 30, 31, 51, 57, 71, 79, 80]\n",
      "classification error on train sets: 0.007000000000000006\n",
      "classification error on test sets: 0.00649999999999995\n",
      "solution 15:\n",
      "number of selected features is: 11.0 out of 100\n",
      "corresponding indices: [8, 27, 28, 39, 42, 49, 66, 75, 76, 79, 80]\n",
      "classification error on train sets: 0.00539999999999996\n",
      "classification error on test sets: 0.010499999999999954\n",
      "solution 16:\n",
      "number of selected features is: 7.0 out of 100\n",
      "corresponding indices: [27, 28, 49, 57, 66, 79, 80]\n",
      "classification error on train sets: 0.010600000000000054\n",
      "classification error on test sets: 0.01749999999999996\n",
      "solution 17:\n",
      "number of selected features is: 4.0 out of 100\n",
      "corresponding indices: [14, 28, 39, 67]\n",
      "classification error on train sets: 0.04259999999999997\n",
      "classification error on test sets: 0.05349999999999999\n",
      "solution 18:\n",
      "number of selected features is: 17.0 out of 100\n",
      "corresponding indices: [9, 16, 20, 21, 27, 28, 29, 49, 54, 57, 66, 67, 69, 71, 76, 79, 80]\n",
      "classification error on train sets: 0.0033999999999999586\n",
      "classification error on test sets: 0.009000000000000008\n",
      "solution 19:\n",
      "number of selected features is: 16.0 out of 100\n",
      "corresponding indices: [8, 9, 16, 20, 27, 28, 29, 39, 42, 44, 49, 66, 76, 79, 80, 83]\n",
      "classification error on train sets: 0.0038000000000000256\n",
      "classification error on test sets: 0.010499999999999954\n",
      "solution 20:\n",
      "number of selected features is: 14.0 out of 100\n",
      "corresponding indices: [9, 16, 20, 21, 27, 28, 29, 42, 49, 66, 67, 76, 79, 80]\n",
      "classification error on train sets: 0.0046000000000000485\n",
      "classification error on test sets: 0.011499999999999955\n",
      "solution 21:\n",
      "number of selected features is: 9.0 out of 100\n",
      "corresponding indices: [8, 27, 28, 39, 49, 54, 66, 79, 80]\n",
      "classification error on train sets: 0.008000000000000007\n",
      "classification error on test sets: 0.01200000000000001\n",
      "solution 22:\n",
      "number of selected features is: 15.0 out of 100\n",
      "corresponding indices: [16, 20, 21, 27, 28, 29, 39, 49, 57, 66, 67, 71, 76, 79, 80]\n",
      "classification error on train sets: 0.0040000000000000036\n",
      "classification error on test sets: 0.007499999999999951\n",
      "solution 23:\n",
      "number of selected features is: 9.0 out of 100\n",
      "corresponding indices: [27, 28, 39, 42, 49, 57, 66, 79, 80]\n",
      "classification error on train sets: 0.008000000000000007\n",
      "classification error on test sets: 0.013000000000000012\n",
      "##################################################################################################\n"
     ]
    }
   ],
   "source": [
    "mce_on_train_solution_tnr = []\n",
    "mce_on_train_tnr = 10\n",
    "mce_on_test_tnr = 10\n",
    "mce_on_test_solution_ttr = []\n",
    "mce_on_test_ttr = 10\n",
    "mce_on_train_ttr = 10\n",
    "\n",
    "print(\"evaluation of the solutions on the final pareto front\")\n",
    "for s in range(len(solutions)):\n",
    "    solution = solutions[s]\n",
    "    # print(\"solution \" + str(s) + \" with a vector \" + str(np.multiply(solution, 1)) + \":\")\n",
    "    print(\"solution \" + str(s) + \":\")\n",
    "    print(\"number of selected features is: \" + str(f[:,0][s]) + \" out of 100\")\n",
    "    indices = [i + 1 for i, x in enumerate(np.multiply(solution, 1)) if x == 1]\n",
    "    print(\"corresponding indices: \" + str(indices))\n",
    "    print(\"classification error on train sets: \" + str(f[:, 1][s]))\n",
    "    featureNames = []\n",
    "    for i in range(len(solution)):\n",
    "        if solution[i] == 1:\n",
    "            featureNames.append(mnist_data.columns[i])\n",
    "    trainx = pd.DataFrame(xtrain[featureNames])\n",
    "    testx = pd.DataFrame(xtest[featureNames])\n",
    "    trainy = ytrain\n",
    "    testy = ytest\n",
    "    knn = KNeighborsClassifier(n_neighbors=5)\n",
    "    knn.fit(trainx, trainy.values.ravel())\n",
    "    predy = knn.predict(testx)\n",
    "    ac = accuracy_score(testy, predy)\n",
    "    mce = 1-ac\n",
    "    if f[:, 1][s] < mce_on_train_tnr:\n",
    "        mce_on_train_tnr = f[:, 1][s]\n",
    "        mce_on_test_tnr = mce\n",
    "        mce_on_train_solution_tnr = np.multiply(solution, 1)\n",
    "    if mce < mce_on_test_ttr:\n",
    "        mce_on_test_ttr = mce\n",
    "        mce_on_train_ttr = f[:, 1][s]\n",
    "        mce_on_test_solution_ttr = np.multiply(solution, 1)\n",
    "    print(\"classification error on test sets: \" + str(mce))\n",
    "print(\"##################################################################################################\")"
   ]
  },
  {
   "cell_type": "code",
   "execution_count": 146,
   "id": "4b4844f5",
   "metadata": {},
   "outputs": [
    {
     "name": "stdout",
     "output_type": "stream",
     "text": [
      "details of best solution (with minimum classification error) on traning set: \n",
      "corresponding indices: [8, 9, 16, 20, 21, 27, 28, 29, 30, 39, 42, 43, 44, 49, 54, 66, 69, 73, 75, 76, 79, 80, 83]\n",
      "number of selected features: 23\n",
      "error rate on training set: 0.0021999999999999797\n",
      "error rate on testing set: 0.008499999999999952\n"
     ]
    }
   ],
   "source": [
    "print(\"details of best solution (with minimum classification error) on traning set: \")\n",
    "indices = [i + 1 for i, x in enumerate(mce_on_train_solution_tnr) if x == 1]\n",
    "print(\"corresponding indices: \" + \n",
    "      str(indices))\n",
    "print(\"number of selected features: \" + str(sum(mce_on_train_solution_tnr)))\n",
    "print(\"error rate on training set: \" + str(mce_on_train_tnr))\n",
    "print(\"error rate on testing set: \" + str(mce_on_test_tnr))"
   ]
  },
  {
   "cell_type": "markdown",
   "id": "404ca03d",
   "metadata": {},
   "source": [
    " # Performance on testing set - selected features"
   ]
  },
  {
   "cell_type": "code",
   "execution_count": 147,
   "id": "f2a15797",
   "metadata": {},
   "outputs": [
    {
     "name": "stdout",
     "output_type": "stream",
     "text": [
      "details of best solution (with minimum classification error) on testing set: \n",
      "corresponding indices: [9, 14, 28, 30, 31, 51, 57, 71, 79, 80]\n",
      "number of selected features: 10\n",
      "error rate on training set: 0.007000000000000006\n",
      "error rate on testing set: 0.00649999999999995\n"
     ]
    }
   ],
   "source": [
    "print(\"details of best solution (with minimum classification error) on testing set: \")\n",
    "indices = [i + 1 for i, x in enumerate(mce_on_test_solution_ttr) if x == 1]\n",
    "print(\"corresponding indices: \" + \n",
    "      str(indices))\n",
    "print(\"number of selected features: \" + str(sum(mce_on_test_solution_ttr)))\n",
    "print(\"error rate on training set: \" + str(mce_on_train_ttr))\n",
    "print(\"error rate on testing set: \" + str(mce_on_test_ttr))"
   ]
  },
  {
   "cell_type": "markdown",
   "id": "4832009d",
   "metadata": {},
   "source": [
    "# Hypervolume : performance indicator quality of paretofront approximation"
   ]
  },
  {
   "cell_type": "markdown",
   "id": "b7409650",
   "metadata": {},
   "source": [
    "The Hypervolume indicator measures the volume of the objective space that is dominated by a set of solutions. It represents how well a set of solutions covers the objective space and is often used to compare different Pareto front approximations. A higher Hypervolume value indicates a better approximation to the true Pareto front."
   ]
  },
  {
   "cell_type": "markdown",
   "id": "6f43f457",
   "metadata": {},
   "source": [
    "# HV"
   ]
  },
  {
   "cell_type": "code",
   "execution_count": 148,
   "id": "246b9a9a",
   "metadata": {},
   "outputs": [
    {
     "name": "stdout",
     "output_type": "stream",
     "text": [
      "HV of the best pareto front:0.91\n"
     ]
    }
   ],
   "source": [
    "ref_point = np.array([1, 1])\n",
    "ind = HV(ref_point=ref_point)\n",
    "scaler = MinMaxScaler()\n",
    "f = scaler.fit_transform(f)\n",
    "hv = ind(f)\n",
    "print(\"HV of the best pareto front:\" + str(round(hv, 2)))"
   ]
  },
  {
   "cell_type": "code",
   "execution_count": null,
   "id": "8ffa7cbd",
   "metadata": {},
   "outputs": [],
   "source": []
  }
 ],
 "metadata": {
  "kernelspec": {
   "display_name": "Python 3 (ipykernel)",
   "language": "python",
   "name": "python3"
  },
  "language_info": {
   "codemirror_mode": {
    "name": "ipython",
    "version": 3
   },
   "file_extension": ".py",
   "mimetype": "text/x-python",
   "name": "python",
   "nbconvert_exporter": "python",
   "pygments_lexer": "ipython3",
   "version": "3.11.5"
  }
 },
 "nbformat": 4,
 "nbformat_minor": 5
}
