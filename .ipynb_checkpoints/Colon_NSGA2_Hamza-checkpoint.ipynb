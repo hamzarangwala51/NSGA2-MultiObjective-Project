{
 "cells": [
  {
   "cell_type": "code",
   "execution_count": null,
   "id": "1838b54f",
   "metadata": {},
   "outputs": [],
   "source": [
    "pip install scipy"
   ]
  },
  {
   "cell_type": "code",
   "execution_count": null,
   "id": "c07b4114",
   "metadata": {},
   "outputs": [],
   "source": [
    "import scipy.io\n",
    "\n",
    "# # Load the .mat file\n",
    "# mat_contents = scipy.io.loadmat('colon.mat')\n",
    "\n",
    "# # Display the contents\n",
    "# #print(mat_contents)\n",
    "# data = mat_contents\n",
    "# X = data['X']\n",
    "# Y=data['Y'].ravel()\n",
    "# print(\"X =\",X)\n",
    "# print(\"Y =\",Y)\n",
    "# print(X.shape[1])\n",
    "# print(data)"
   ]
  },
  {
   "cell_type": "code",
   "execution_count": 43,
   "id": "c520014f",
   "metadata": {},
   "outputs": [
    {
     "name": "stdout",
     "output_type": "stream",
     "text": [
      "X = [[-2  2  0 ...  2  0  0]\n",
      " [ 0  0  0 ...  0 -2  0]\n",
      " [-2 -2  0 ...  2  0  0]\n",
      " ...\n",
      " [ 2  2  0 ...  0  0  2]\n",
      " [ 0 -2  0 ...  0  0 -2]\n",
      " [ 2 -2  0 ...  0  0 -2]]\n",
      "Y = [-1 -1 -1 -1 -1 -1 -1 -1 -1 -1 -1 -1 -1 -1 -1 -1 -1 -1 -1 -1 -1 -1 -1 -1\n",
      " -1 -1 -1  1  1  1  1  1  1  1  1  1  1  1 -1 -1 -1 -1 -1 -1 -1 -1 -1 -1\n",
      " -1 -1 -1 -1 -1 -1 -1 -1 -1 -1  1  1  1  1  1  1  1  1  1  1  1  1  1  1]\n",
      "7070\n",
      "{'__header__': b'MATLAB 5.0 MAT-file, Platform: PCWIN64, Created on: Wed Mar 25 15:23:42 2015', '__version__': '1.0', '__globals__': [], 'X': array([[-2,  2,  0, ...,  2,  0,  0],\n",
      "       [ 0,  0,  0, ...,  0, -2,  0],\n",
      "       [-2, -2,  0, ...,  2,  0,  0],\n",
      "       ...,\n",
      "       [ 2,  2,  0, ...,  0,  0,  2],\n",
      "       [ 0, -2,  0, ...,  0,  0, -2],\n",
      "       [ 2, -2,  0, ...,  0,  0, -2]], dtype=int16), 'Y': array([[-1],\n",
      "       [-1],\n",
      "       [-1],\n",
      "       [-1],\n",
      "       [-1],\n",
      "       [-1],\n",
      "       [-1],\n",
      "       [-1],\n",
      "       [-1],\n",
      "       [-1],\n",
      "       [-1],\n",
      "       [-1],\n",
      "       [-1],\n",
      "       [-1],\n",
      "       [-1],\n",
      "       [-1],\n",
      "       [-1],\n",
      "       [-1],\n",
      "       [-1],\n",
      "       [-1],\n",
      "       [-1],\n",
      "       [-1],\n",
      "       [-1],\n",
      "       [-1],\n",
      "       [-1],\n",
      "       [-1],\n",
      "       [-1],\n",
      "       [ 1],\n",
      "       [ 1],\n",
      "       [ 1],\n",
      "       [ 1],\n",
      "       [ 1],\n",
      "       [ 1],\n",
      "       [ 1],\n",
      "       [ 1],\n",
      "       [ 1],\n",
      "       [ 1],\n",
      "       [ 1],\n",
      "       [-1],\n",
      "       [-1],\n",
      "       [-1],\n",
      "       [-1],\n",
      "       [-1],\n",
      "       [-1],\n",
      "       [-1],\n",
      "       [-1],\n",
      "       [-1],\n",
      "       [-1],\n",
      "       [-1],\n",
      "       [-1],\n",
      "       [-1],\n",
      "       [-1],\n",
      "       [-1],\n",
      "       [-1],\n",
      "       [-1],\n",
      "       [-1],\n",
      "       [-1],\n",
      "       [-1],\n",
      "       [ 1],\n",
      "       [ 1],\n",
      "       [ 1],\n",
      "       [ 1],\n",
      "       [ 1],\n",
      "       [ 1],\n",
      "       [ 1],\n",
      "       [ 1],\n",
      "       [ 1],\n",
      "       [ 1],\n",
      "       [ 1],\n",
      "       [ 1],\n",
      "       [ 1],\n",
      "       [ 1]], dtype=int16)}\n"
     ]
    }
   ],
   "source": [
    "import scipy.io\n",
    "\n",
    "# # Load the .mat file\n",
    "mat_contents = scipy.io.loadmat('leukemia.mat')\n",
    "\n",
    "# Display the contents\n",
    "#print(mat_contents)\n",
    "data = mat_contents\n",
    "X = data['X']\n",
    "Y=data['Y'].ravel()\n",
    "print(\"X =\",X)\n",
    "print(\"Y =\",Y)\n",
    "print(X.shape[1])\n",
    "print(data)"
   ]
  },
  {
   "cell_type": "code",
   "execution_count": null,
   "id": "5bb2b830",
   "metadata": {},
   "outputs": [],
   "source": [
    "pip install pymoo"
   ]
  },
  {
   "cell_type": "code",
   "execution_count": 2,
   "id": "5e9ad143",
   "metadata": {},
   "outputs": [],
   "source": [
    "import numpy as np\n",
    "import matplotlib.pyplot as plt\n",
    "from pymoo.core.problem import Problem\n",
    "from pymoo.algorithms.moo.nsga2 import NSGA2\n",
    "from pymoo.optimize import minimize\n",
    "from pymoo.visualization.scatter import Scatter\n",
    "from pymoo.termination import get_termination\n",
    "from sklearn.model_selection import train_test_split\n",
    "from sklearn.neighbors import KNeighborsClassifier\n",
    "from sklearn.metrics import accuracy_score\n",
    "from pymoo.operators.sampling.rnd import BinaryRandomSampling\n",
    "from pymoo.operators.crossover.ux import UniformCrossover\n",
    "from pymoo.operators.mutation.bitflip import BitflipMutation\n",
    "from sklearn.preprocessing import (StandardScaler, OrdinalEncoder,LabelEncoder, MinMaxScaler, OneHotEncoder)\n",
    "from pymoo.indicators.hv import HV\n",
    "import pandas as pd"
   ]
  },
  {
   "cell_type": "code",
   "execution_count": null,
   "id": "96ae72d9",
   "metadata": {},
   "outputs": [],
   "source": [
    "# class FeatureSelectionProblem(Problem):\n",
    "\n",
    "#     def __init__(self,X,Y):\n",
    "#         super().__init__(n_var=X.shape[1], n_obj=2,n_constr=0, xl=0,  xu=1,  type_var=int)\n",
    "#         self.X = X\n",
    "#         self.Y = Y\n",
    "#     def _evaluate(self, x, out, *args, **kwargs):\n",
    "#         f1 = []\n",
    "#         f2 = []\n",
    "        \n",
    "#         for i in range(x.shape[0]):\n",
    "#             selected_features = np.where(x[i] == 1)[0]\n",
    "#             if len(selected_features) == 0:\n",
    "#                 f1.append(1.0)\n",
    "#                 f2.append(self.X.shape[1])\n",
    "#             else:\n",
    "#                 X_selected = self.X[:, selected_features]\n",
    "#                 knn = KNeighborsClassifier(n_neighbors=5)\n",
    "#                 knn.fit(X_train, Y_train)\n",
    "#                 Y_pred = knn.predict(X_train)\n",
    "#                 error_rate = 1 - accuracy_score(Y_train, Y_pred)\n",
    "#                 f1.append(error_rate)\n",
    "#                 f2.append(len(selected_features))\n",
    "        \n",
    "#         out[\"F\"] = np.column_stack([f2, f1])"
   ]
  },
  {
   "cell_type": "code",
   "execution_count": 3,
   "id": "fba6b6c4",
   "metadata": {},
   "outputs": [],
   "source": [
    "X_train, X_test, Y_train, Y_test = train_test_split(X, Y, test_size=0.3, random_state=42)"
   ]
  },
  {
   "cell_type": "code",
   "execution_count": 4,
   "id": "beaa834a",
   "metadata": {},
   "outputs": [
    {
     "data": {
      "text/plain": [
       "((50, 7070), (22, 7070), (50,), (22,))"
      ]
     },
     "execution_count": 4,
     "metadata": {},
     "output_type": "execute_result"
    }
   ],
   "source": [
    "X_train.shape, X_test.shape, Y_train.shape, Y_test.shape"
   ]
  },
  {
   "cell_type": "code",
   "execution_count": 5,
   "id": "2deb4348",
   "metadata": {},
   "outputs": [
    {
     "name": "stdout",
     "output_type": "stream",
     "text": [
      "[[ 2 -2  0 ... -2  0  0]\n",
      " [ 0  0  0 ...  2 -2  0]\n",
      " [ 2  2  0 ...  0  0  2]\n",
      " ...\n",
      " [ 2 -2  0 ...  0  0  2]\n",
      " [-2  0  0 ...  0 -2  0]\n",
      " [-2 -2  0 ...  2  0  2]]\n",
      "[ 1 -1  1 -1 -1 -1  1 -1  1 -1  1 -1 -1 -1  1 -1 -1 -1 -1 -1 -1  1  1 -1\n",
      "  1 -1  1 -1 -1 -1 -1  1  1 -1  1  1  1  1  1 -1  1 -1 -1 -1 -1 -1 -1  1\n",
      " -1 -1]\n"
     ]
    }
   ],
   "source": [
    "print(X_train)\n",
    "print(Y_train)"
   ]
  },
  {
   "cell_type": "code",
   "execution_count": 34,
   "id": "c2a5e4c0",
   "metadata": {},
   "outputs": [],
   "source": [
    "class MyProblem(Problem):\n",
    "    def __init__(self):\n",
    "        super().__init__(n_var=7070, # decision variables\n",
    "                         n_obj=2,  # two objective functions\n",
    "                        n_ieq_constr=1)\n",
    "\n",
    "    def _classification_error(self, bitstring):\n",
    "        featureNames = []\n",
    "        for i in range(len(bitstring)):\n",
    "            if bitstring[i] == 1:\n",
    "                featureNames.append(i)\n",
    "  \n",
    "        if len(featureNames) == 0:\n",
    "            return 1\n",
    "        else:\n",
    "            trainx = X_train[:, featureNames]\n",
    "            trainy = Y_train\n",
    "            knn = KNeighborsClassifier(n_neighbors=5)\n",
    "            knn.fit(trainx, trainy)\n",
    "            Y_pred = knn.predict(trainx)\n",
    "            ac = accuracy_score(trainy, Y_pred)\n",
    "            return 1 - ac\n",
    "\n",
    "    def _features_number(self, bitstring):\n",
    "        return sum(bitstring)\n",
    "\n",
    "    def __constrain__(self,bitstring):\n",
    "        return 1 - sum(bitstring)\n",
    "\n",
    "    def _evaluate(self, x, out, *args, **kwargs):\n",
    "        f1 = [self._features_number(x[i]) for i in range(len(x))]\n",
    "        f2 = [self._classification_error(x[i]) for i in range(len(x))]\n",
    "        g1 = [self._constrain(x[i]) for i in range(0, len(x))]\n",
    "        out[\"F\"] = np.column_stack([f1, f2])\n",
    "        out[\"G\"] = np.column_stack([g1])"
   ]
  },
  {
   "cell_type": "code",
   "execution_count": 35,
   "id": "0ce938d1",
   "metadata": {},
   "outputs": [
    {
     "name": "stdout",
     "output_type": "stream",
     "text": [
      "Classification error on training sets using all features: 0.06000000000000005\n",
      "Classification error on testing sets using all features: 0.09090909090909094\n",
      "###################################################################################\n"
     ]
    }
   ],
   "source": [
    "xtrain, xtest, ytrain, ytest = train_test_split(X,Y, test_size=0.3, random_state=42)\n",
    "knn = KNeighborsClassifier(n_neighbors=5)\n",
    "knn.fit(xtrain, ytrain)\n",
    "ypred = knn.predict(xtrain)\n",
    "ac = accuracy_score(ytrain, ypred)\n",
    "print(\"Classification error on training sets using all features: \" + str(1 - ac))\n",
    "ypred = knn.predict(xtest)\n",
    "ac = accuracy_score(ytest, ypred)\n",
    "print(\"Classification error on testing sets using all features: \" + str(1 - ac))\n",
    "\n",
    "print(\"###################################################################################\")"
   ]
  },
  {
   "cell_type": "code",
   "execution_count": 36,
   "id": "2f2479d7",
   "metadata": {},
   "outputs": [],
   "source": [
    "#problem = FeatureSelectionProblem(X,Y)"
   ]
  },
  {
   "cell_type": "code",
   "execution_count": 37,
   "id": "bd469202",
   "metadata": {},
   "outputs": [],
   "source": [
    "problem = MyProblem()"
   ]
  },
  {
   "cell_type": "code",
   "execution_count": 39,
   "id": "a4f3b588",
   "metadata": {},
   "outputs": [],
   "source": [
    "algorithm = NSGA2(pop_size=100,\n",
    "                  sampling=BinaryRandomSampling(),\n",
    "                  crossover=UniformCrossover(prob=0.9),\n",
    "                  mutation=BitflipMutation(prob=0.01),\n",
    "                  eliminate_duplicates=True)"
   ]
  },
  {
   "cell_type": "code",
   "execution_count": 40,
   "id": "836733b8",
   "metadata": {},
   "outputs": [],
   "source": [
    "termination = get_termination(\"n_gen\", 5)"
   ]
  },
  {
   "cell_type": "code",
   "execution_count": 41,
   "id": "0fb3f4bc",
   "metadata": {},
   "outputs": [
    {
     "name": "stdout",
     "output_type": "stream",
     "text": [
      "==========================================================================================\n",
      "n_gen  |  n_eval  | n_nds  |     cv_min    |     cv_avg    |      eps      |   indicator  \n",
      "==========================================================================================\n",
      "     1 |      100 |      3 |  0.000000E+00 |  0.000000E+00 |             - |             -\n",
      "     2 |      200 |      4 |  0.000000E+00 |  0.000000E+00 |  0.3924050633 |         ideal\n",
      "     3 |      300 |      2 |  0.000000E+00 |  0.000000E+00 |  0.1666666667 |         ideal\n",
      "     4 |      400 |      2 |  0.000000E+00 |  0.000000E+00 |  0.5588235294 |         ideal\n",
      "     5 |      500 |      2 |  0.000000E+00 |  0.000000E+00 |  0.4222222222 |         ideal\n"
     ]
    }
   ],
   "source": [
    "res = minimize(problem,\n",
    "               algorithm,\n",
    "               termination,\n",
    "               seed=42,\n",
    "               save_history=True,\n",
    "               verbose=True)\n",
    "\n",
    "i_f = res.history[0].opt.get(\"F\")\n",
    "i_pop = res.history[0].pop\n",
    "f = res.F\n",
    "pop = res.pop\n",
    "solutions = res.X"
   ]
  },
  {
   "cell_type": "code",
   "execution_count": 42,
   "id": "2cc9c34a",
   "metadata": {},
   "outputs": [
    {
     "name": "stdout",
     "output_type": "stream",
     "text": [
      "the intial pareto front is plotted as: \n"
     ]
    },
    {
     "data": {
      "image/png": "[encoded data removed]",
      "text/plain": [
       "<Figure size 640x480 with 1 Axes>"
      ]
     },
     "metadata": {},
     "output_type": "display_data"
    },
    {
     "name": "stdout",
     "output_type": "stream",
     "text": [
      "the final pareto front is plotted as: \n"
     ]
    },
    {
     "data": {
      "image/png": "[encoded data removed]",
      "text/plain": [
       "<Figure size 640x480 with 1 Axes>"
      ]
     },
     "metadata": {},
     "output_type": "display_data"
    }
   ],
   "source": [
    "print(\"the intial pareto front is plotted as: \")\n",
    "plt.scatter(i_pop.get(\"F\")[:,0], i_pop.get(\"F\")[:,1], edgecolor=\"blue\", facecolor=\"none\", label = \"solutions\")\n",
    "plt.scatter(i_f[:,0], i_f[:,1], marker='*', edgecolor=\"red\", facecolor=\"none\", label = \"optimal pareto front\")\n",
    "plt.xlabel('number of features')\n",
    "plt.ylabel('training error')\n",
    "plt.legend()\n",
    "plt.title(\"visualization of the initial pareto front\")\n",
    "plt.show()\n",
    "print(\"the final pareto front is plotted as: \")\n",
    "plt.scatter(pop.get(\"F\")[:,0], pop.get(\"F\")[:,1], edgecolor=\"blue\", facecolor=\"none\", label = \"solutions\")\n",
    "plt.scatter(f[:,0], f[:,1], marker='*', edgecolor=\"red\", facecolor=\"none\", label = \"optimal pareto front\")\n",
    "plt.xlabel('number of features')\n",
    "plt.ylabel('training error')\n",
    "plt.legend()\n",
    "plt.title(\"visualization of the final pareto front\")\n",
    "plt.show()"
   ]
  },
  {
   "cell_type": "code",
   "execution_count": null,
   "id": "caaedcc7",
   "metadata": {},
   "outputs": [],
   "source": [
    "print(res.F[:,1])\n",
    "print(res.F[:,0])\n",
    "print(pop.get(\"F\")[:,0])\n",
    "print(pop.get(\"F\")[:,1])"
   ]
  },
  {
   "cell_type": "code",
   "execution_count": null,
   "id": "16ae28ec",
   "metadata": {},
   "outputs": [],
   "source": [
    "# Evaluate non-dominated solutions on the test data\n",
    "pareto_solutions = res.pop.get(\"X\")\n",
    "f_test = []\n",
    "for solution in pareto_solutions:\n",
    "    selected_features = np.where(solution == 1)[0]\n",
    "    if len(selected_features) == 0:\n",
    "        f_test.append([X_test.shape[1], 1.0])\n",
    "    else:\n",
    "        X_test_selected = X_test[:, selected_features]\n",
    "        knn = KNeighborsClassifier(n_neighbors=5)\n",
    "        knn.fit(X_train[:, selected_features], Y_train)\n",
    "        Y_pred = knn.predict(X_test_selected)\n",
    "        error_rate = 1 - accuracy_score(Y_test, Y_pred)\n",
    "        f_test.append([len(selected_features), error_rate])\n",
    "\n",
    "f_test = np.array(f_test)\n",
    "\n",
    "min_error_idx = np.argmin(f_test[:, 1])\n",
    "optimal_solution = f_test[min_error_idx]\n",
    "print(f_test[:,1])\n",
    "print(f_test[:,0])"
   ]
  },
  {
   "cell_type": "code",
   "execution_count": null,
   "id": "e2d56131",
   "metadata": {},
   "outputs": [],
   "source": [
    "# Plot the Pareto front for test data\n",
    "import matplotlib.pyplot as plt\n",
    "\n",
    "plt.scatter(f_test[:, 0], f_test[:, 1], edgecolor=\"blue\", facecolor=\"none\", label=\"Test Data Pareto Front\")\n",
    "plt.scatter(optimal_solution[0], optimal_solution[1], marker='*', color='red', s=100, label=\"Optimal Solution\")\n",
    "plt.xlabel('Number of Features')\n",
    "plt.ylabel('Error Rate')\n",
    "plt.legend()\n",
    "plt.title(\"Pareto Front on Test Data\")\n",
    "plt.show()"
   ]
  },
  {
   "cell_type": "code",
   "execution_count": null,
   "id": "80a372bf",
   "metadata": {},
   "outputs": [],
   "source": [
    "ref_point = np.array([1, 1])\n",
    "ind = HV(ref_point=ref_point)\n",
    "scaler = MinMaxScaler()\n",
    "f_train = scaler.fit_transform(f)\n",
    "hv_train = ind(f_train)\n",
    "print(\"HV of the best pareto front train:\" + str(round(hv_train, 2)))"
   ]
  },
  {
   "cell_type": "code",
   "execution_count": null,
   "id": "902c7245",
   "metadata": {},
   "outputs": [],
   "source": [
    "ref_point = np.array([1, 1])\n",
    "ind = HV(ref_point=ref_point)\n",
    "scaler = MinMaxScaler()\n",
    "f_t = scaler.fit_transform(f_test)\n",
    "hv_test = ind(f_t)\n",
    "print(\"HV of the best pareto front test:\" + str(round(hv_test, 2)))"
   ]
  },
  {
   "cell_type": "code",
   "execution_count": null,
   "id": "6025d4f6",
   "metadata": {},
   "outputs": [],
   "source": [
    "# Extracting and plotting the Pareto Front from all generations\n",
    "pareto_fronts = [gen.opt.get(\"F\") for gen in res.history]\n",
    "\n",
    "for i, pareto in enumerate(pareto_fronts):\n",
    "    plt.scatter(pareto[:, 0], pareto[:, 1])\n",
    "\n",
    "plt.xlabel('Number of Features')\n",
    "plt.ylabel('Training Error Rate')\n",
    "plt.title('Pareto Front Evolution')\n",
    "plt.legend()\n",
    "plt.show()\n",
    "\n"
   ]
  },
  {
   "cell_type": "code",
   "execution_count": null,
   "id": "cbb99566",
   "metadata": {},
   "outputs": [],
   "source": [
    "print(\"the intial pareto front is plotted as: \")\n",
    "plt.scatter(i_pop.get(\"F\")[:,0], i_pop.get(\"F\")[:,1], edgecolor=\"blue\", facecolor=\"none\", label = \"solutions\")\n",
    "plt.scatter(i_f[:,0], i_f[:,1], marker='*', edgecolor=\"red\", facecolor=\"none\", label = \"optimal pareto front\")\n",
    "plt.xlabel('number of features')\n",
    "plt.ylabel('training error')\n",
    "plt.legend()\n",
    "plt.title(\"visualization of the initial pareto front\")\n",
    "plt.show()\n"
   ]
  },
  {
   "cell_type": "code",
   "execution_count": null,
   "id": "31c29dd5",
   "metadata": {},
   "outputs": [],
   "source": [
    "print(\"the final pareto front is plotted as: \")\n",
    "plt.scatter(pop.get(\"F\")[:,0], pop.get(\"F\")[:,1], edgecolor=\"blue\", facecolor=\"none\", label = \"solutions\")\n",
    "plt.scatter(f[:,0], f[:,1], marker='*', edgecolor=\"red\", facecolor=\"none\", label = \"optimal pareto front\")\n",
    "plt.xlabel('number of features')\n",
    "plt.ylabel('training error')\n",
    "plt.legend()\n",
    "plt.title(\"visualization of the final pareto front\")\n",
    "plt.show()"
   ]
  },
  {
   "cell_type": "code",
   "execution_count": null,
   "id": "3e4ecba8",
   "metadata": {},
   "outputs": [],
   "source": [
    "print(\"the final pareto front is plotted as: \")\n",
    "#Train data\n",
    "plt.scatter(pop.get(\"F\")[:,0], pop.get(\"F\")[:,1], edgecolor=\"blue\", facecolor=\"none\", label=\"Training Solutions\")\n",
    "plt.scatter(f[:,0], f[:,1], marker='*', edgecolor=\"red\", facecolor=\"none\", label=\"Optimal Pareto Front (Training)\")\n",
    "#Test data\n",
    "plt.scatter(f_test[:, 0], f_test[:, 1], edgecolor=\"blue\", facecolor=\"none\", label=\"Test Data Pareto Front\")\n",
    "plt.scatter(optimal_solution[0], optimal_solution[1], marker='*', color='red', s=100, label=\"Optimal Solution(Testing)\")\n",
    "\n",
    "plt.xlabel('Number of Features')\n",
    "plt.ylabel('Training Error')\n",
    "plt.legend()\n",
    "plt.title(\"Visualization of the Final Pareto Front (Training and Test)\")\n",
    "plt.show()"
   ]
  },
  {
   "cell_type": "code",
   "execution_count": null,
   "id": "019e7f29",
   "metadata": {},
   "outputs": [],
   "source": [
    "# Get the minimum error from the optimization result\n",
    "min_error_train = np.min(res.F[:, 1])\n",
    "\n",
    "# Print the minimum error\n",
    "print(\"Minimum error on training dataset:\", min_error_train)"
   ]
  },
  {
   "cell_type": "code",
   "execution_count": null,
   "id": "57b6d72b",
   "metadata": {},
   "outputs": [],
   "source": [
    "# Get the minimum error from the optimization result\n",
    "min_error_test = np.min(f_test[:,1])\n",
    "\n",
    "# Print the minimum error\n",
    "print(\"Minimum error on testing dataset:\", min_error_test)"
   ]
  },
  {
   "cell_type": "code",
   "execution_count": null,
   "id": "43d10d36",
   "metadata": {},
   "outputs": [],
   "source": [
    "# Get the minimum error from the optimization result\n",
    "min_error_train = np.min(res.F[:, 1])\n",
    "\n",
    "# Find the row(s) where the error is minimized\n",
    "min_error_indices = np.where(res.F[:, 1] == min_error_train)[0]\n",
    "\n",
    "# Get the corresponding solutions with minimum error\n",
    "solutions_with_min_error = res.X[min_error_indices]\n",
    "\n",
    "# Get the number of features for the solutions with minimum error\n",
    "num_features_with_min_error_train = [np.count_nonzero(solution) for solution in solutions_with_min_error]\n",
    "\n",
    "# Print the number of features with minimum error\n",
    "print(\"Number of features with minimum error on train:\", num_features_with_min_error_train)"
   ]
  },
  {
   "cell_type": "code",
   "execution_count": null,
   "id": "1a79a3bf",
   "metadata": {},
   "outputs": [],
   "source": [
    "num_features_with_min_error_test = optimal_solution[0]\n",
    "print(\"Number of features with minimum error on test data:\",num_features_with_min_error_test)"
   ]
  },
  {
   "cell_type": "code",
   "execution_count": null,
   "id": "f8c804f2",
   "metadata": {},
   "outputs": [],
   "source": [
    "from prettytable import PrettyTable\n",
    "\n",
    "# Create a PrettyTable instance\n",
    "table = PrettyTable()\n",
    "\n",
    "# Set the column alignment\n",
    "table.align = \"l\"\n",
    "\n",
    "# Define the column names\n",
    "table.field_names = [\"Info abt. Dataset(Name,SampleSize,Features)\", \"H.V.(Train)\", \"H.V.(Test)\", \n",
    "                     \"Min. Error(Train)\", \"Min. Error(Test)\", \"Feat. with Min. Error (Train)\", \n",
    "                     \"Feat. with Min. Error (Test)\"]\n",
    "\n",
    "# Populate the table with data\n",
    "dataset_info = \"Colon,62,2000\"\n",
    "hv_training = \"{:.2f}\".format(hv_train)\n",
    "hv_testing = \"{:.2f}\".format(hv_test)\n",
    "min_error_training = \"{:.5f}\".format(min_error_train)\n",
    "min_error_testing = \"{:.5f}\".format(min_error_test)\n",
    "min_error_features_training = num_features_with_min_error_train[0]\n",
    "min_error_features_testing = num_features_with_min_error_test\n",
    "samplesize = \"62\"\n",
    "features = \"2000\"\n",
    "\n",
    "# Add data to the table row\n",
    "table.add_row([dataset_info, hv_training, hv_testing, min_error_training, min_error_testing,\n",
    "               min_error_features_training, min_error_features_testing])\n",
    "\n",
    "\n",
    "# Print the table\n",
    "print(table)\n"
   ]
  },
  {
   "cell_type": "code",
   "execution_count": null,
   "id": "86c703c8",
   "metadata": {},
   "outputs": [],
   "source": []
  }
 ],
 "metadata": {
  "kernelspec": {
   "display_name": "Python 3 (ipykernel)",
   "language": "python",
   "name": "python3"
  },
  "language_info": {
   "codemirror_mode": {
    "name": "ipython",
    "version": 3
   },
   "file_extension": ".py",
   "mimetype": "text/x-python",
   "name": "python",
   "nbconvert_exporter": "python",
   "pygments_lexer": "ipython3",
   "version": "3.11.5"
  }
 },
 "nbformat": 4,
 "nbformat_minor": 5
}
