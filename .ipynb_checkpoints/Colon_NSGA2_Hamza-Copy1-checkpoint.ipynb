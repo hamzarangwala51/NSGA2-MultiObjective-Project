{
 "cells": [
  {
   "cell_type": "code",
   "execution_count": 1,
   "id": "1838b54f",
   "metadata": {},
   "outputs": [
    {
     "name": "stdout",
     "output_type": "stream",
     "text": [
      "Requirement already satisfied: scipy in c:\\users\\hamza\\anaconda3\\lib\\site-packages (1.12.0)\n",
      "Requirement already satisfied: numpy<1.29.0,>=1.22.4 in c:\\users\\hamza\\anaconda3\\lib\\site-packages (from scipy) (1.26.4)\n",
      "Note: you may need to restart the kernel to use updated packages.\n"
     ]
    }
   ],
   "source": [
    "pip install scipy"
   ]
  },
  {
   "cell_type": "code",
   "execution_count": 2,
   "id": "c07b4114",
   "metadata": {},
   "outputs": [
    {
     "name": "stdout",
     "output_type": "stream",
     "text": [
      "X = [[-2  2  0 ...  2  0  0]\n",
      " [ 0  0  0 ...  0 -2  0]\n",
      " [-2 -2  0 ...  2  0  0]\n",
      " ...\n",
      " [ 2  2  0 ...  0  0  2]\n",
      " [ 0 -2  0 ...  0  0 -2]\n",
      " [ 2 -2  0 ...  0  0 -2]]\n",
      "7070\n"
     ]
    }
   ],
   "source": [
    "import scipy.io\n",
    "\n",
    "# Load the .mat file\n",
    "mat_contents = scipy.io.loadmat('leukemia.mat')\n",
    "\n",
    "# Display the contents\n",
    "#print(mat_contents)\n",
    "data = mat_contents\n",
    "X = data['X']\n",
    "print(\"X =\",X)\n",
    "print(X.shape[1])"
   ]
  },
  {
   "cell_type": "code",
   "execution_count": 3,
   "id": "c520014f",
   "metadata": {},
   "outputs": [],
   "source": [
    "# import scipy.io\n",
    "\n",
    "# # Load the .mat file\n",
    "# mat_contents = scipy.io.loadmat('leukemia.mat')\n",
    "\n",
    "# # Display the contents\n",
    "# #print(mat_contents)\n",
    "# data = mat_contents\n",
    "# X = data['X']\n",
    "# print(\"X =\",X)\n",
    "# print(X.shape[1])"
   ]
  },
  {
   "cell_type": "code",
   "execution_count": 4,
   "id": "5bb2b830",
   "metadata": {},
   "outputs": [
    {
     "name": "stdout",
     "output_type": "stream",
     "text": [
      "Requirement already satisfied: pymoo in c:\\users\\hamza\\anaconda3\\lib\\site-packages (0.6.1.1)\n",
      "Requirement already satisfied: numpy>=1.15 in c:\\users\\hamza\\anaconda3\\lib\\site-packages (from pymoo) (1.26.4)\n",
      "Requirement already satisfied: scipy>=1.1 in c:\\users\\hamza\\anaconda3\\lib\\site-packages (from pymoo) (1.12.0)\n",
      "Requirement already satisfied: matplotlib>=3 in c:\\users\\hamza\\anaconda3\\lib\\site-packages (from pymoo) (3.7.2)\n",
      "Requirement already satisfied: autograd>=1.4 in c:\\users\\hamza\\anaconda3\\lib\\site-packages (from pymoo) (1.6.2)\n",
      "Requirement already satisfied: cma==3.2.2 in c:\\users\\hamza\\anaconda3\\lib\\site-packages (from pymoo) (3.2.2)\n",
      "Requirement already satisfied: alive-progress in c:\\users\\hamza\\anaconda3\\lib\\site-packages (from pymoo) (3.1.5)\n",
      "Requirement already satisfied: dill in c:\\users\\hamza\\anaconda3\\lib\\site-packages (from pymoo) (0.3.6)\n",
      "Requirement already satisfied: Deprecated in c:\\users\\hamza\\anaconda3\\lib\\site-packages (from pymoo) (1.2.14)\n",
      "Requirement already satisfied: future>=0.15.2 in c:\\users\\hamza\\anaconda3\\lib\\site-packages (from autograd>=1.4->pymoo) (0.18.3)\n",
      "Requirement already satisfied: contourpy>=1.0.1 in c:\\users\\hamza\\anaconda3\\lib\\site-packages (from matplotlib>=3->pymoo) (1.0.5)\n",
      "Requirement already satisfied: cycler>=0.10 in c:\\users\\hamza\\anaconda3\\lib\\site-packages (from matplotlib>=3->pymoo) (0.11.0)\n",
      "Requirement already satisfied: fonttools>=4.22.0 in c:\\users\\hamza\\anaconda3\\lib\\site-packages (from matplotlib>=3->pymoo) (4.25.0)\n",
      "Requirement already satisfied: kiwisolver>=1.0.1 in c:\\users\\hamza\\anaconda3\\lib\\site-packages (from matplotlib>=3->pymoo) (1.4.4)\n",
      "Requirement already satisfied: packaging>=20.0 in c:\\users\\hamza\\anaconda3\\lib\\site-packages (from matplotlib>=3->pymoo) (23.1)\n",
      "Requirement already satisfied: pillow>=6.2.0 in c:\\users\\hamza\\anaconda3\\lib\\site-packages (from matplotlib>=3->pymoo) (9.4.0)\n",
      "Requirement already satisfied: pyparsing<3.1,>=2.3.1 in c:\\users\\hamza\\anaconda3\\lib\\site-packages (from matplotlib>=3->pymoo) (3.0.9)\n",
      "Requirement already satisfied: python-dateutil>=2.7 in c:\\users\\hamza\\anaconda3\\lib\\site-packages (from matplotlib>=3->pymoo) (2.8.2)\n",
      "Requirement already satisfied: about-time==4.2.1 in c:\\users\\hamza\\anaconda3\\lib\\site-packages (from alive-progress->pymoo) (4.2.1)\n",
      "Requirement already satisfied: grapheme==0.6.0 in c:\\users\\hamza\\anaconda3\\lib\\site-packages (from alive-progress->pymoo) (0.6.0)\n",
      "Requirement already satisfied: wrapt<2,>=1.10 in c:\\users\\hamza\\anaconda3\\lib\\site-packages (from Deprecated->pymoo) (1.14.1)\n",
      "Requirement already satisfied: six>=1.5 in c:\\users\\hamza\\anaconda3\\lib\\site-packages (from python-dateutil>=2.7->matplotlib>=3->pymoo) (1.16.0)\n",
      "Note: you may need to restart the kernel to use updated packages.\n"
     ]
    }
   ],
   "source": [
    "pip install pymoo"
   ]
  },
  {
   "cell_type": "code",
   "execution_count": 5,
   "id": "5e9ad143",
   "metadata": {},
   "outputs": [],
   "source": [
    "import numpy as np\n",
    "import matplotlib.pyplot as plt\n",
    "from pymoo.core.problem import Problem\n",
    "from pymoo.algorithms.moo.nsga2 import NSGA2\n",
    "from pymoo.optimize import minimize\n",
    "from pymoo.visualization.scatter import Scatter\n",
    "from pymoo.termination import get_termination\n",
    "from sklearn.model_selection import train_test_split\n",
    "from sklearn.neighbors import KNeighborsClassifier\n",
    "from sklearn.metrics import accuracy_score\n",
    "from pymoo.operators.sampling.rnd import BinaryRandomSampling\n",
    "from pymoo.operators.crossover.ux import UniformCrossover\n",
    "from pymoo.operators.mutation.bitflip import BitflipMutation\n",
    "from sklearn.preprocessing import (StandardScaler, OrdinalEncoder,LabelEncoder, MinMaxScaler, OneHotEncoder)\n",
    "from pymoo.indicators.hv import HV"
   ]
  },
  {
   "cell_type": "code",
   "execution_count": 6,
   "id": "d1105080",
   "metadata": {},
   "outputs": [],
   "source": [
    "X = data['X']\n",
    "Y = data['Y'].flatten()"
   ]
  },
  {
   "cell_type": "code",
   "execution_count": 7,
   "id": "249ea1c8",
   "metadata": {},
   "outputs": [],
   "source": [
    "X_train, X_test, Y_train, Y_test = train_test_split(X, Y, test_size=0.3, random_state=42)"
   ]
  },
  {
   "cell_type": "code",
   "execution_count": 8,
   "id": "96ae72d9",
   "metadata": {},
   "outputs": [],
   "source": [
    "class FeatureSelectionProblem(Problem):\n",
    "\n",
    "    def __init__(self,X,Y):\n",
    "        super().__init__(n_var=X.shape[1], n_obj=2,n_constr=0, xl=0,  xu=1,  type_var=int)\n",
    "        self.X = X\n",
    "        self.Y = Y\n",
    "    def _evaluate(self, x, out, *args, **kwargs):\n",
    "        f1 = []\n",
    "        f2 = []\n",
    "        \n",
    "        for i in range(x.shape[0]):\n",
    "            selected_features = np.where(x[i] == 1)[0]\n",
    "            if len(selected_features) == 0:\n",
    "                f1.append(1.0)\n",
    "                f2.append(self.X.shape[1])\n",
    "            else:\n",
    "                X_selected = self.X[:, selected_features]\n",
    "                X_train, X_val, Y_train, Y_val = train_test_split(X_selected, self.Y, test_size=0.3, random_state=42)\n",
    "                knn = KNeighborsClassifier(n_neighbors=5)\n",
    "                knn.fit(X_train, Y_train)\n",
    "                Y_pred = knn.predict(X_train)\n",
    "                error_rate = 1 - accuracy_score(Y_train, Y_pred)\n",
    "                f1.append(error_rate)\n",
    "                f2.append(len(selected_features))\n",
    "        \n",
    "        out[\"F\"] = np.column_stack([f2, f1])"
   ]
  },
  {
   "cell_type": "code",
   "execution_count": 9,
   "id": "0ce938d1",
   "metadata": {},
   "outputs": [
    {
     "name": "stdout",
     "output_type": "stream",
     "text": [
      "Classification error on training sets using all features: 0.06000000000000005\n",
      "Classification error on testing sets using all features: 0.09090909090909094\n",
      "###################################################################################\n"
     ]
    }
   ],
   "source": [
    "xtrain, xtest, ytrain, ytest = train_test_split(X,Y, test_size=0.3, random_state=42)\n",
    "knn = KNeighborsClassifier(n_neighbors=5)\n",
    "knn.fit(xtrain, ytrain)\n",
    "ypred = knn.predict(xtrain)\n",
    "ac = accuracy_score(ytrain, ypred)\n",
    "print(\"Classification error on training sets using all features: \" + str(1 - ac))\n",
    "ypred = knn.predict(xtest)\n",
    "ac = accuracy_score(ytest, ypred)\n",
    "print(\"Classification error on testing sets using all features: \" + str(1 - ac))\n",
    "\n",
    "print(\"###################################################################################\")"
   ]
  },
  {
   "cell_type": "code",
   "execution_count": 10,
   "id": "2f2479d7",
   "metadata": {},
   "outputs": [],
   "source": [
    "problem = FeatureSelectionProblem(X,Y)"
   ]
  },
  {
   "cell_type": "code",
   "execution_count": 11,
   "id": "a4f3b588",
   "metadata": {},
   "outputs": [],
   "source": [
    "algorithm = NSGA2(pop_size=100,\n",
    "                  sampling=BinaryRandomSampling(),\n",
    "                  crossover=UniformCrossover(prob=0.9),\n",
    "                  mutation=BitflipMutation(prob=0.01),\n",
    "                  eliminate_duplicates=True)"
   ]
  },
  {
   "cell_type": "code",
   "execution_count": 12,
   "id": "836733b8",
   "metadata": {},
   "outputs": [],
   "source": [
    "termination = get_termination(\"n_gen\", 100)"
   ]
  },
  {
   "cell_type": "code",
   "execution_count": null,
   "id": "0fb3f4bc",
   "metadata": {},
   "outputs": [
    {
     "name": "stdout",
     "output_type": "stream",
     "text": [
      "==========================================================\n",
      "n_gen  |  n_eval  | n_nds  |      eps      |   indicator  \n",
      "==========================================================\n",
      "     1 |      100 |      3 |             - |             -\n",
      "     2 |      200 |      5 |  0.3924050633 |         ideal\n",
      "     3 |      300 |      4 |  0.3070175439 |         ideal\n",
      "     4 |      400 |      3 |  1.2800000000 |         nadir\n",
      "     5 |      500 |      2 |  0.4888888889 |         ideal\n",
      "     6 |      600 |      2 |  0.4901960784 |         ideal\n",
      "     7 |      700 |      3 |  0.4269662921 |         ideal\n",
      "     8 |      800 |      5 |  0.2500000000 |         ideal\n",
      "     9 |      900 |      4 |  0.1217391304 |         ideal\n",
      "    10 |     1000 |      3 |  0.2013888889 |         ideal\n",
      "    11 |     1100 |      3 |  0.0694444444 |             f\n",
      "    12 |     1200 |      4 |  0.1746987952 |         ideal\n",
      "    13 |     1300 |      4 |  0.0348837209 |         ideal\n",
      "    14 |     1400 |      3 |  1.3846153846 |         ideal\n",
      "    15 |     1500 |      3 |  0.2571428571 |         ideal\n",
      "    16 |     1600 |      3 |  0.0380952381 |             f\n",
      "    17 |     1700 |      2 |  0.2368421053 |         ideal\n",
      "    18 |     1800 |      3 |  0.4634146341 |         ideal\n",
      "    19 |     1900 |      2 |  0.7096774194 |         ideal\n",
      "    20 |     2000 |      2 |  5.0000000000 |         ideal\n",
      "    21 |     2100 |      1 |  4.200000E+01 |         ideal\n",
      "    22 |     2200 |      1 |  0.000000E+00 |             f\n",
      "    23 |     2300 |      2 |  1.7368421053 |         ideal\n",
      "    24 |     2400 |      2 |  0.5681818182 |         ideal\n",
      "    25 |     2500 |      2 |  0.3250000000 |         ideal\n"
     ]
    }
   ],
   "source": [
    "res = minimize(problem,\n",
    "               algorithm,\n",
    "               termination,\n",
    "               seed=42,\n",
    "               save_history=True,\n",
    "               verbose=True)\n",
    "\n",
    "i_f = res.history[0].opt.get(\"F\")\n",
    "i_pop = res.history[0].pop\n",
    "f = res.F\n",
    "pop = res.pop\n",
    "solutions = res.X"
   ]
  },
  {
   "cell_type": "code",
   "execution_count": null,
   "id": "caaedcc7",
   "metadata": {},
   "outputs": [],
   "source": [
    "print(res.F[:,1])\n",
    "print(res.F[:,0])"
   ]
  },
  {
   "cell_type": "code",
   "execution_count": null,
   "id": "16ae28ec",
   "metadata": {},
   "outputs": [],
   "source": [
    "# Evaluate non-dominated solutions on the test data\n",
    "pareto_solutions = res.pop.get(\"X\")\n",
    "f_test = []\n",
    "for solution in pareto_solutions:\n",
    "    selected_features = np.where(solution == 1)[0]\n",
    "    if len(selected_features) == 0:\n",
    "        f_test.append([X_test.shape[1], 1.0])\n",
    "    else:\n",
    "        X_test_selected = X_test[:, selected_features]\n",
    "        knn = KNeighborsClassifier(n_neighbors=5)\n",
    "        knn.fit(X_train[:, selected_features], Y_train)\n",
    "        Y_pred = knn.predict(X_test_selected)\n",
    "        error_rate = 1 - accuracy_score(Y_test, Y_pred)\n",
    "        f_test.append([len(selected_features), error_rate])\n",
    "\n",
    "f_test = np.array(f_test)\n",
    "\n",
    "min_error_idx = np.argmin(f_test[:, 1])\n",
    "optimal_solution = f_test[min_error_idx]\n",
    "print(f_test[:,1])\n",
    "print(f_test[:,0])"
   ]
  },
  {
   "cell_type": "code",
   "execution_count": null,
   "id": "e2d56131",
   "metadata": {},
   "outputs": [],
   "source": [
    "# Plot the Pareto front for test data\n",
    "import matplotlib.pyplot as plt\n",
    "\n",
    "plt.scatter(f_test[:, 0], f_test[:, 1], edgecolor=\"blue\", facecolor=\"none\", label=\"Test Data Pareto Front\")\n",
    "plt.scatter(optimal_solution[0], optimal_solution[1], marker='*', color='red', s=100, label=\"Optimal Solution\")\n",
    "plt.xlabel('Number of Features')\n",
    "plt.ylabel('Error Rate')\n",
    "plt.legend()\n",
    "plt.title(\"Pareto Front on Test Data\")\n",
    "plt.show()"
   ]
  },
  {
   "cell_type": "code",
   "execution_count": null,
   "id": "80a372bf",
   "metadata": {},
   "outputs": [],
   "source": [
    "ref_point = np.array([1, 1])\n",
    "ind = HV(ref_point=ref_point)\n",
    "scaler = MinMaxScaler()\n",
    "f_train = scaler.fit_transform(f)\n",
    "hv_train = ind(f_train)\n",
    "print(\"HV of the best pareto front train:\" + str(round(hv_train, 2)))"
   ]
  },
  {
   "cell_type": "code",
   "execution_count": null,
   "id": "902c7245",
   "metadata": {},
   "outputs": [],
   "source": [
    "ref_point = np.array([1, 1])\n",
    "ind = HV(ref_point=ref_point)\n",
    "scaler = MinMaxScaler()\n",
    "f_t = scaler.fit_transform(f_test)\n",
    "hv_test = ind(f_t)\n",
    "print(\"HV of the best pareto front test:\" + str(round(hv_test, 2)))"
   ]
  },
  {
   "cell_type": "code",
   "execution_count": null,
   "id": "6025d4f6",
   "metadata": {},
   "outputs": [],
   "source": [
    "# Extracting and plotting the Pareto Front from all generations\n",
    "pareto_fronts = [gen.opt.get(\"F\") for gen in res.history]\n",
    "\n",
    "for i, pareto in enumerate(pareto_fronts):\n",
    "    plt.scatter(pareto[:, 0], pareto[:, 1])\n",
    "\n",
    "plt.xlabel('Number of Features')\n",
    "plt.ylabel('Training Error Rate')\n",
    "plt.title('Pareto Front Evolution')\n",
    "plt.legend()\n",
    "plt.show()\n",
    "\n"
   ]
  },
  {
   "cell_type": "code",
   "execution_count": null,
   "id": "cbb99566",
   "metadata": {},
   "outputs": [],
   "source": [
    "print(\"the intial pareto front is plotted as: \")\n",
    "plt.scatter(i_pop.get(\"F\")[:,0], i_pop.get(\"F\")[:,1], edgecolor=\"blue\", facecolor=\"none\", label = \"solutions\")\n",
    "plt.scatter(i_f[:,0], i_f[:,1], marker='*', edgecolor=\"red\", facecolor=\"none\", label = \"optimal pareto front\")\n",
    "plt.xlabel('number of features')\n",
    "plt.ylabel('training error')\n",
    "plt.legend()\n",
    "plt.title(\"visualization of the initial pareto front\")\n",
    "plt.show()\n"
   ]
  },
  {
   "cell_type": "code",
   "execution_count": null,
   "id": "31c29dd5",
   "metadata": {},
   "outputs": [],
   "source": [
    "print(\"the final pareto front is plotted as: \")\n",
    "plt.scatter(pop.get(\"F\")[:,0], pop.get(\"F\")[:,1], edgecolor=\"blue\", facecolor=\"none\", label = \"solutions\")\n",
    "plt.scatter(f[:,0], f[:,1], marker='*', edgecolor=\"red\", facecolor=\"none\", label = \"optimal pareto front\")\n",
    "plt.xlabel('number of features')\n",
    "plt.ylabel('training error')\n",
    "plt.legend()\n",
    "plt.title(\"visualization of the final pareto front\")\n",
    "plt.show()"
   ]
  },
  {
   "cell_type": "code",
   "execution_count": null,
   "id": "3e4ecba8",
   "metadata": {},
   "outputs": [],
   "source": [
    "print(\"the final pareto front is plotted as: \")\n",
    "#Train data\n",
    "plt.scatter(pop.get(\"F\")[:,0], pop.get(\"F\")[:,1], edgecolor=\"blue\", facecolor=\"none\", label=\"Training Solutions\")\n",
    "plt.scatter(f[:,0], f[:,1], marker='*', edgecolor=\"red\", facecolor=\"none\", label=\"Optimal Pareto Front (Training)\")\n",
    "#Test data\n",
    "plt.scatter(f_test[:, 0], f_test[:, 1], edgecolor=\"blue\", facecolor=\"none\", label=\"Test Data Pareto Front\")\n",
    "plt.scatter(optimal_solution[0], optimal_solution[1], marker='*', color='red', s=100, label=\"Optimal Solution(Testing)\")\n",
    "\n",
    "plt.xlabel('Number of Features')\n",
    "plt.ylabel('Training Error')\n",
    "plt.legend()\n",
    "plt.title(\"Visualization of the Final Pareto Front (Training and Test)\")\n",
    "plt.show()"
   ]
  },
  {
   "cell_type": "code",
   "execution_count": null,
   "id": "019e7f29",
   "metadata": {},
   "outputs": [],
   "source": [
    "# Get the minimum error from the optimization result\n",
    "min_error_train = np.min(res.F[:, 1])\n",
    "\n",
    "# Print the minimum error\n",
    "print(\"Minimum error on training dataset:\", min_error_train)"
   ]
  },
  {
   "cell_type": "code",
   "execution_count": null,
   "id": "57b6d72b",
   "metadata": {},
   "outputs": [],
   "source": [
    "# Get the minimum error from the optimization result\n",
    "min_error_test = np.min(f_test[:,1])\n",
    "\n",
    "# Print the minimum error\n",
    "print(\"Minimum error on testing dataset:\", min_error_test)"
   ]
  },
  {
   "cell_type": "code",
   "execution_count": null,
   "id": "43d10d36",
   "metadata": {},
   "outputs": [],
   "source": [
    "# Get the minimum error from the optimization result\n",
    "min_error_train = np.min(res.F[:, 1])\n",
    "\n",
    "# Find the row(s) where the error is minimized\n",
    "min_error_indices = np.where(res.F[:, 1] == min_error_train)[0]\n",
    "\n",
    "# Get the corresponding solutions with minimum error\n",
    "solutions_with_min_error = res.X[min_error_indices]\n",
    "\n",
    "# Get the number of features for the solutions with minimum error\n",
    "num_features_with_min_error_train = [np.count_nonzero(solution) for solution in solutions_with_min_error]\n",
    "\n",
    "# Print the number of features with minimum error\n",
    "print(\"Number of features with minimum error on train:\", num_features_with_min_error_train)"
   ]
  },
  {
   "cell_type": "code",
   "execution_count": null,
   "id": "1a79a3bf",
   "metadata": {},
   "outputs": [],
   "source": [
    "num_features_with_min_error_test = optimal_solution[0]\n",
    "print(\"Number of features with minimum error on test data:\",num_features_with_min_error_test)"
   ]
  },
  {
   "cell_type": "code",
   "execution_count": null,
   "id": "f8c804f2",
   "metadata": {},
   "outputs": [],
   "source": [
    "from prettytable import PrettyTable\n",
    "\n",
    "# Create a PrettyTable instance\n",
    "table = PrettyTable()\n",
    "\n",
    "# Set the column alignment\n",
    "table.align = \"l\"\n",
    "\n",
    "# Define the column names\n",
    "table.field_names = [\"Info about Dataset\", \"H.V.(Train)\", \"H.V.(Test)\", \n",
    "                     \"Min. Error(Train)\", \"Min. Error(Test)\", \"Feat. with Min. Error (Train)\", \n",
    "                     \"Feat. with Min. Error (Test)\"]\n",
    "\n",
    "# Populate the table with data\n",
    "dataset_info = \"Colon,62,2000\"\n",
    "hv_training = \"{:.2f}\".format(hv_train)\n",
    "hv_testing = \"{:.2f}\".format(hv_test)\n",
    "min_error_training = \"{:.5f}\".format(min_error_train)\n",
    "min_error_testing = \"{:.5f}\".format(min_error_test)\n",
    "min_error_features_training = num_features_with_min_error_train[0]\n",
    "min_error_features_testing = num_features_with_min_error_test\n",
    "samplesize = \"62\"\n",
    "features = \"2000\"\n",
    "\n",
    "# Add data to the table row\n",
    "table.add_row([dataset_info, hv_training, hv_testing, min_error_training, min_error_testing,\n",
    "               min_error_features_training, min_error_features_testing])\n",
    "\n",
    "\n",
    "# Print the table\n",
    "print(table)\n"
   ]
  },
  {
   "cell_type": "code",
   "execution_count": null,
   "id": "9b1c8366",
   "metadata": {},
   "outputs": [],
   "source": []
  },
  {
   "cell_type": "code",
   "execution_count": null,
   "id": "7a719ae1",
   "metadata": {},
   "outputs": [],
   "source": []
  }
 ],
 "metadata": {
  "kernelspec": {
   "display_name": "Python 3 (ipykernel)",
   "language": "python",
   "name": "python3"
  },
  "language_info": {
   "codemirror_mode": {
    "name": "ipython",
    "version": 3
   },
   "file_extension": ".py",
   "mimetype": "text/x-python",
   "name": "python",
   "nbconvert_exporter": "python",
   "pygments_lexer": "ipython3",
   "version": "3.11.5"
  }
 },
 "nbformat": 4,
 "nbformat_minor": 5
}
